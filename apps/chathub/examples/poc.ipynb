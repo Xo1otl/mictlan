{
 "cells": [
  {
   "cell_type": "code",
   "execution_count": null,
   "metadata": {},
   "outputs": [
    {
     "data": {
      "application/vnd.jupyter.widget-view+json": {
       "model_id": "c08762ff00d24876825a56ecf317a3fa",
       "version_major": 2,
       "version_minor": 0
      },
      "text/plain": [
       "VBox(children=(Textarea(value='', disabled=True, layout=Layout(height='300px', width='100%')), Text(value='', …"
      ]
     },
     "metadata": {},
     "output_type": "display_data"
    },
    {
     "name": "stderr",
     "output_type": "stream",
     "text": [
      "/tmp/ipykernel_83386/1297305231.py:26: DeprecationWarning: on_submit is deprecated. Instead, set the .continuous_update attribute to False and observe the value changing with: mywidget.observe(callback, 'value').\n",
      "  input_box.on_submit(on_submit)\n"
     ]
    },
    {
     "name": "stdout",
     "output_type": "stream",
     "text": [
      "{'model': 'jaahas/gemma-2-9b-it-abliterated', 'created_at': '2024-11-13T08:11:59.53395254Z', 'message': {'role': 'assistant', 'content': 'Hey'}, 'done': False}\n",
      "{'model': 'jaahas/gemma-2-9b-it-abliterated', 'created_at': '2024-11-13T08:11:59.6149242Z', 'message': {'role': 'assistant', 'content': ' there'}, 'done': False}\n",
      "{'model': 'jaahas/gemma-2-9b-it-abliterated', 'created_at': '2024-11-13T08:11:59.695942506Z', 'message': {'role': 'assistant', 'content': '!'}, 'done': False}\n",
      "{'model': 'jaahas/gemma-2-9b-it-abliterated', 'created_at': '2024-11-13T08:11:59.777070356Z', 'message': {'role': 'assistant', 'content': ' 👋'}, 'done': False}\n",
      "{'model': 'jaahas/gemma-2-9b-it-abliterated', 'created_at': '2024-11-13T08:11:59.857369383Z', 'message': {'role': 'assistant', 'content': '\\n\\n'}, 'done': False}\n",
      "{'model': 'jaahas/gemma-2-9b-it-abliterated', 'created_at': '2024-11-13T08:11:59.937434771Z', 'message': {'role': 'assistant', 'content': 'How'}, 'done': False}\n",
      "{'model': 'jaahas/gemma-2-9b-it-abliterated', 'created_at': '2024-11-13T08:12:00.019909115Z', 'message': {'role': 'assistant', 'content': ' can'}, 'done': False}\n",
      "{'model': 'jaahas/gemma-2-9b-it-abliterated', 'created_at': '2024-11-13T08:12:00.100663676Z', 'message': {'role': 'assistant', 'content': ' I'}, 'done': False}\n",
      "{'model': 'jaahas/gemma-2-9b-it-abliterated', 'created_at': '2024-11-13T08:12:00.180884672Z', 'message': {'role': 'assistant', 'content': ' help'}, 'done': False}\n",
      "{'model': 'jaahas/gemma-2-9b-it-abliterated', 'created_at': '2024-11-13T08:12:00.261198964Z', 'message': {'role': 'assistant', 'content': ' you'}, 'done': False}\n",
      "{'model': 'jaahas/gemma-2-9b-it-abliterated', 'created_at': '2024-11-13T08:12:00.340983453Z', 'message': {'role': 'assistant', 'content': ' today'}, 'done': False}\n",
      "{'model': 'jaahas/gemma-2-9b-it-abliterated', 'created_at': '2024-11-13T08:12:00.420996288Z', 'message': {'role': 'assistant', 'content': '?'}, 'done': False}\n",
      "{'model': 'jaahas/gemma-2-9b-it-abliterated', 'created_at': '2024-11-13T08:12:00.500815319Z', 'message': {'role': 'assistant', 'content': ' 😄'}, 'done': False}\n",
      "{'model': 'jaahas/gemma-2-9b-it-abliterated', 'created_at': '2024-11-13T08:12:00.581447643Z', 'message': {'role': 'assistant', 'content': ''}, 'done_reason': 'stop', 'done': True, 'total_duration': 1305267589, 'load_duration': 39491475, 'prompt_eval_count': 10, 'prompt_eval_duration': 210000000, 'eval_count': 14, 'eval_duration': 1054000000}\n"
     ]
    }
   ],
   "source": [
    "from chathub import chat\n",
    "from IPython.display import display\n",
    "import ipywidgets as widgets\n",
    "\n",
    "chat_area = widgets.Textarea(\n",
    "    layout={'width': '100%', 'height': '300px'}, disabled=True)\n",
    "input_box = widgets.Text(layout={'width': '100%'})\n",
    "display(widgets.VBox([chat_area, input_box]))\n",
    "\n",
    "manager = chat.Manager(chat.OllamaBot(), chat.GitRepository())\n",
    "messages = []\n",
    "\n",
    "\n",
    "def on_submit(change):\n",
    "    user_input = input_box.value\n",
    "    input_box.value = ''\n",
    "    chat_area.value += f\"\\nUser: {user_input}\"\n",
    "    messages.append({\"role\": \"user\", \"content\": user_input})\n",
    "    chat_area.value += \"\\nAssistant: \"\n",
    "\n",
    "    for chunk in manager.mediate(\"user1\", \"chat1\", messages):\n",
    "        if content := chunk.get('message', {}).get('content'):\n",
    "            chat_area.value = chat_area.value + content\n",
    "\n",
    "\n",
    "input_box.on_submit(on_submit)"
   ]
  }
 ],
 "metadata": {
  "kernelspec": {
   "display_name": ".venv",
   "language": "python",
   "name": "python3"
  },
  "language_info": {
   "codemirror_mode": {
    "name": "ipython",
    "version": 3
   },
   "file_extension": ".py",
   "mimetype": "text/x-python",
   "name": "python",
   "nbconvert_exporter": "python",
   "pygments_lexer": "ipython3",
   "version": "3.11.10"
  }
 },
 "nbformat": 4,
 "nbformat_minor": 2
}
