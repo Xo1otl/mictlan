{
 "cells": [
  {
   "cell_type": "code",
   "execution_count": 1,
   "metadata": {},
   "outputs": [
    {
     "data": {
      "application/vnd.jupyter.widget-view+json": {
       "model_id": "ced82e2242b84172b959e0879f7768e5",
       "version_major": 2,
       "version_minor": 0
      },
      "text/plain": [
       "VBox(children=(Textarea(value='', disabled=True, layout=Layout(height='300px', width='100%')), Text(value='', …"
      ]
     },
     "metadata": {},
     "output_type": "display_data"
    },
    {
     "name": "stderr",
     "output_type": "stream",
     "text": [
      "/tmp/ipykernel_20015/2115482160.py:26: DeprecationWarning: on_submit is deprecated. Instead, set the .continuous_update attribute to False and observe the value changing with: mywidget.observe(callback, 'value').\n",
      "  input_box.on_submit(on_submit)\n"
     ]
    }
   ],
   "source": [
    "from chathub import chat\n",
    "from IPython.display import display\n",
    "import ipywidgets as widgets\n",
    "\n",
    "chat_area = widgets.Textarea(\n",
    "    layout={'width': '100%', 'height': '300px'}, disabled=True)\n",
    "input_box = widgets.Text(layout={'width': '100%'})\n",
    "display(widgets.VBox([chat_area, input_box]))\n",
    "\n",
    "manager = chat.Manager(chat.OllamaBot(), chat.GitRepository())\n",
    "messages = []\n",
    "\n",
    "\n",
    "def on_submit(change):\n",
    "    user_input = input_box.value\n",
    "    input_box.value = ''\n",
    "    chat_area.value += f\"\\nUser: {user_input}\"\n",
    "    messages.append({\"role\": \"user\", \"content\": user_input})\n",
    "    chat_area.value += \"\\nAssistant: \"\n",
    "\n",
    "    for chunk in manager.mediate(\"user1\", \"chat1\", messages):\n",
    "        if content := chunk.get('message', {}).get('content'):  # type: ignore\n",
    "            chat_area.value = chat_area.value + content\n",
    "\n",
    "\n",
    "input_box.on_submit(on_submit)"
   ]
  }
 ],
 "metadata": {
  "kernelspec": {
   "display_name": ".venv",
   "language": "python",
   "name": "python3"
  },
  "language_info": {
   "codemirror_mode": {
    "name": "ipython",
    "version": 3
   },
   "file_extension": ".py",
   "mimetype": "text/x-python",
   "name": "python",
   "nbconvert_exporter": "python",
   "pygments_lexer": "ipython3",
   "version": "3.11.10"
  }
 },
 "nbformat": 4,
 "nbformat_minor": 2
}
