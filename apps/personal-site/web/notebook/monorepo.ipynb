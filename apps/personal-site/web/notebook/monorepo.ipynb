{
 "cells": [
  {
   "cell_type": "markdown",
   "metadata": {},
   "source": [
    "# Mictlan Monorepo\n",
    "\n",
    "`tree -L 3 -d --gitignore`\n",
    "`tree -L 4 -d --gitignore packages`\n",
    "```shell\n",
    ".\n",
    "├── apps\n",
    "│   ├── koemade\n",
    "│   │   ├── internal\n",
    "│   │   ├── vendor\n",
    "│   │   └── web\n",
    "│   ├── LeanTutorial\n",
    "│   │   └── examples\n",
    "│   ├── ossekai\n",
    "│   │   ├── cmd\n",
    "│   │   ├── internal\n",
    "│   │   └── web\n",
    "│   ├── personal-site\n",
    "│   │   ├── cmd\n",
    "│   │   ├── internal\n",
    "│   │   └── web\n",
    "│   ├── scratchai\n",
    "│   │   ├── cmd\n",
    "│   │   └── internal\n",
    "│   └── syuron\n",
    "│       └── examples\n",
    "├── artifacts\n",
    "│   └── tensor\n",
    "├── build\n",
    "│   ├── devcontainer\n",
    "│   │   └── dotfiles\n",
    "│   └── koemade\n",
    "├── packages\n",
    "│   ├── lib\n",
    "│   │   ├── go\n",
    "│   │   │   └── pkg\n",
    "│   │   │       └── ann\n",
    "│   │   └── ts\n",
    "│   │       └── pkg\n",
    "│   │           ├── common\n",
    "│   │           ├── state\n",
    "│   │           └── utilitytypes\n",
    "│   └── util\n",
    "│       ├── php\n",
    "│       │   └── pkg\n",
    "│       │       └── logger\n",
    "│       └── python\n",
    "│           └── pkg\n",
    "│               ├── localfile\n",
    "│               └── mermaid\n",
    "└── scripts\n",
    "```"
   ]
  }
 ],
 "metadata": {
  "language_info": {
   "name": "python"
  }
 },
 "nbformat": 4,
 "nbformat_minor": 2
}
