{
 "cells": [
  {
   "cell_type": "markdown",
   "metadata": {},
   "source": [
    "# Mictlan Monorepo\n",
    "\n",
    "`tree -L 3 -d --gitignore`\n",
    "```shell\n",
    ".\n",
    "├── build\n",
    "│   ├── devcontainer\n",
    "│   │   └── dotfiles\n",
    "│   └── koemade\n",
    "├── packages\n",
    "│   ├── koemade\n",
    "│   │   ├── internal\n",
    "│   │   ├── pkg\n",
    "│   │   ├── vendor\n",
    "│   │   └── web\n",
    "│   ├── LeanTutorial\n",
    "│   │   └── examples\n",
    "│   ├── lib\n",
    "│   │   ├── go\n",
    "│   │   ├── python\n",
    "│   │   └── ts\n",
    "│   ├── ossekai\n",
    "│   │   ├── cmd\n",
    "│   │   ├── internal\n",
    "│   │   └── web\n",
    "│   ├── personal-site\n",
    "│   │   ├── cmd\n",
    "│   │   ├── internal\n",
    "│   │   └── web\n",
    "│   ├── scratchai\n",
    "│   │   ├── cmd\n",
    "│   │   └── internal\n",
    "│   └── syuron\n",
    "│       └── examples\n",
    "└── scripts\n",
    "```"
   ]
  }
 ],
 "metadata": {
  "language_info": {
   "name": "python"
  }
 },
 "nbformat": 4,
 "nbformat_minor": 2
}
