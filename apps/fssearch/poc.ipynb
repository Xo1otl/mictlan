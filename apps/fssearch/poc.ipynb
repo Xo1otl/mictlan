{
 "cells": [
  {
   "cell_type": "code",
   "execution_count": null,
   "metadata": {},
   "outputs": [
    {
     "name": "stdout",
     "output_type": "stream",
     "text": [
      "Indexed 529 files successfully\n"
     ]
    }
   ],
   "source": [
    "import os\n",
    "import git\n",
    "import meilisearch\n",
    "import uuid\n",
    "from util import workspace\n",
    "from infra import searchengine\n",
    "\n",
    "\n",
    "def get_tracked_files(repo_path):\n",
    "    \"\"\"Gitの管理対象になっているファイルの一覧を取得\"\"\"\n",
    "    repo = git.Repo(repo_path)\n",
    "    return [item[0] for item in repo.index.entries]\n",
    "\n",
    "\n",
    "def read_file_content(file_path):\n",
    "    \"\"\"ファイルの内容を読み込む。バイナリファイルの場合はNoneを返す\"\"\"\n",
    "    try:\n",
    "        with open(file_path, 'r', encoding='utf-8') as f:\n",
    "            return f.read()\n",
    "    except (UnicodeDecodeError, IOError):\n",
    "        return None\n",
    "\n",
    "\n",
    "def create_document(file_path, content):\n",
    "    \"\"\"Meilisearch用のドキュメントを作成\"\"\"\n",
    "    return {\n",
    "        'id': str(uuid.uuid4()),\n",
    "        'filepath': file_path,\n",
    "        'content': content,\n",
    "        'ext': os.path.splitext(file_path)[1][1:] or 'no-extension'\n",
    "    }\n",
    "\n",
    "\n",
    "def index_repository(repo_path, meilisearch_url, api_key, index_name):\n",
    "    \"\"\"リポジトリ内のファイルをMeilisearchにインデックス\"\"\"\n",
    "    # Meilisearchクライアントの初期化\n",
    "    client = meilisearch.Client(meilisearch_url, api_key)\n",
    "    index = client.index(index_name)\n",
    "\n",
    "    # ファイルの取得とインデックス作成\n",
    "    tracked_files = get_tracked_files(repo_path)\n",
    "    documents = []\n",
    "\n",
    "    for file_path in tracked_files:\n",
    "        content = read_file_content(os.path.join(repo_path, file_path))\n",
    "        if content is not None:  # テキストファイルの場合のみインデックス\n",
    "            doc = create_document(file_path, content)\n",
    "            documents.append(doc)\n",
    "\n",
    "    # ドキュメントの追加\n",
    "    if documents:\n",
    "        index.add_documents(documents)\n",
    "        print(f\"Indexed {len(documents)} files successfully\")\n",
    "    else:\n",
    "        print(\"No text files found to index\")\n",
    "    return client\n",
    "\n",
    "\n",
    "client = index_repository(workspace.root_dir, 'http://meilisearch:7700',\n",
    "                          searchengine.MEILI_MASTER_KEY, 'fssearch-mictlan')"
   ]
  },
  {
   "cell_type": "code",
   "execution_count": 2,
   "metadata": {},
   "outputs": [
    {
     "data": {
      "text/plain": [
       "TaskInfo(task_uid=395, index_uid='fssearch-mictlan', status='enqueued', type='indexDeletion', enqueued_at=datetime.datetime(2024, 11, 11, 11, 12, 28, 304934))"
      ]
     },
     "execution_count": 2,
     "metadata": {},
     "output_type": "execute_result"
    }
   ],
   "source": [
    "client.delete_index('fssearch-mictlan')"
   ]
  }
 ],
 "metadata": {
  "kernelspec": {
   "display_name": ".venv",
   "language": "python",
   "name": "python3"
  },
  "language_info": {
   "codemirror_mode": {
    "name": "ipython",
    "version": 3
   },
   "file_extension": ".py",
   "mimetype": "text/x-python",
   "name": "python",
   "nbconvert_exporter": "python",
   "pygments_lexer": "ipython3",
   "version": "3.11.10"
  }
 },
 "nbformat": 4,
 "nbformat_minor": 2
}
