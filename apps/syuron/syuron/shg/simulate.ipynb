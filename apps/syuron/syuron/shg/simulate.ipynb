{
 "cells": [
  {
   "cell_type": "code",
   "execution_count": 2,
   "metadata": {},
   "outputs": [],
   "source": [
    "class Mode:\n",
    "    kind: str\n",
    "    \n",
    "\n",
    "\n",
    "class Waveguide:\n",
    "    # 導波路内では同じ波長でも、存在できるモードが異なる\n",
    "    # あるモードの基本波からあるモードの第二高調波に変換するためには、実行屈折率が同じである必要がある\n",
    "    # 各モードの実行屈折率を計算したい\n",
    "    available_modes = []"
   ]
  },
  {
   "cell_type": "code",
   "execution_count": 1,
   "metadata": {},
   "outputs": [
    {
     "name": "stdout",
     "output_type": "stream",
     "text": [
      "AAA\n"
     ]
    }
   ],
   "source": [
    "class Device:\n",
    "    # tensorで表現する\n",
    "    # 幅、高さ、\n",
    "    def __init__(self) -> None:\n",
    "        pass\n",
    "\n",
    "    def visualize(self):\n",
    "        pass\n",
    "\n",
    "\n",
    "def simulate(device: Device):\n",
    "    # 波長を変化させてスペクトル分布を得る\n",
    "    # デバイスの特性から計算する\n",
    "    # 行列演算でいっぺんに行いたい\n",
    "    # deviceのtensorと波長ベクトルで計算\n",
    "    print(device)"
   ]
  }
 ],
 "metadata": {
  "kernelspec": {
   "display_name": ".venv",
   "language": "python",
   "name": "python3"
  },
  "language_info": {
   "codemirror_mode": {
    "name": "ipython",
    "version": 3
   },
   "file_extension": ".py",
   "mimetype": "text/x-python",
   "name": "python",
   "nbconvert_exporter": "python",
   "pygments_lexer": "ipython3",
   "version": "3.10.12"
  }
 },
 "nbformat": 4,
 "nbformat_minor": 2
}
