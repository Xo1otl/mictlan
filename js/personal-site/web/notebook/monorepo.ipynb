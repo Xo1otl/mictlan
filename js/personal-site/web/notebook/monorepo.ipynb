{
 "cells": [
  {
   "cell_type": "markdown",
   "metadata": {},
   "source": [
    "# Mictlan Monorepo\n",
    "\n",
    "Githubの大きいリポジトリとかでいろんな言語を組み合わせたプロジェクトを見て、よくわからんけどこなれてる感あるなと思って\n",
    "頑張って我流で複数言語を一つにまとめたプロジェクトを考えて環境構築してみたらモノレポマイブームきた\n",
    "\n",
    "ということで[このリポジトリ](https://github.com/SpicyIslandFruits/mictlan)がどうなっているか雑に述べる\n",
    "\n",
    "大体[GoのProject Structure](https://github.com/golang-standards/project-layout)参考にしている\n",
    "\n",
    "一応イベント駆動でイベントソーシングするCQRSなマイクロサービスを一つのリポジトリで管理するのが夢\n",
    "\n",
    "Goの構成みてると、main関数がいくつもcmdに書けるらしく、それなら違う言語のコード横に書けるやんと思いたった結果こうなった\n",
    "\n",
    "結局モジュールに分かれているので、どのモジュールをどの言語で書いたかとかが気にならなければ、いまのところ割とかなり使い勝手がいい\n",
    "\n",
    "マイクロサービスの卵ということで、compose見ると割といろんなコンテナがある\n",
    "\n",
    "サーバー借りるのめんどいしアクセスないので、無料でできるzrokを使っている\n",
    "\n",
    "zrok ⇔ nginx ⇔ php, bun ⇔ mysql といった感じでやり取りしている\n",
    "\n",
    "[redpanda](https://university.redpanda.com/)を導入してよりちゃんとしたマイクロサービスにしたいし、いつかdocker composeからkubernetesに進化したい\n",
    "\n",
    "lean 4 にもハマっていてプロジェクトに組み込んでしまったので、いつでも定理証明できる環境がある\n",
    "\n",
    "ソースコードに対するGraph RAGがしたい、Documentに応じた下処理をしてGraph RAGを行うことを考えると、いろんな言語・フレームワークでいろんな継ぎ足しが必要だと思うので、Mictlanで取り組みたい\n",
    "\n",
    "あとPlayrightを使ってスゲースクレイピングができないかなーと思っている"
   ]
  }
 ],
 "metadata": {
  "language_info": {
   "name": "python"
  }
 },
 "nbformat": 4,
 "nbformat_minor": 2
}
