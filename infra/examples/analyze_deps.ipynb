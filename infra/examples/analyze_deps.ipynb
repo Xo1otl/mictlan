{
 "cells": [
  {
   "cell_type": "code",
   "execution_count": null,
   "metadata": {},
   "outputs": [
    {
     "name": "stdout",
     "output_type": "stream",
     "text": [
      "['DOMAIN', '__builtins__', '__cached__', '__doc__', '__file__', '__loader__', '__name__', '__package__', '__path__', '__spec__', 'generate_docker_compose']\n"
     ]
    }
   ],
   "source": [
    "from util import workspace\n",
    "from infra import ecosystem\n",
    "\n",
    "# それぞれのモジュールの依存関係をimportを見て自動解決したい\n",
    "\n",
    "# やっぱりdocker_composeにかけばいい話なので自動解決はしない"
   ]
  }
 ],
 "metadata": {
  "kernelspec": {
   "display_name": ".venv",
   "language": "python",
   "name": "python3"
  },
  "language_info": {
   "codemirror_mode": {
    "name": "ipython",
    "version": 3
   },
   "file_extension": ".py",
   "mimetype": "text/x-python",
   "name": "python",
   "nbconvert_exporter": "python",
   "pygments_lexer": "ipython3",
   "version": "3.11.10"
  }
 },
 "nbformat": 4,
 "nbformat_minor": 2
}
