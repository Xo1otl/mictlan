{
 "cells": [
  {
   "cell_type": "markdown",
   "id": "9b75d12cac1fb42c",
   "metadata": {},
   "source": [
    "$$\n",
    "\\frac{\\partial C}{\\partial w_{ij}^{(L)}} = \\frac{1}{N} \\sum_{n=1}^{N} a_{j}^{(L-1)}(n) \\sigma'(z_{i}^{(L)}(n)) 2(a_{i}^{(L)}(n) - y_i)\n",
    "$$\n"
   ]
  },
  {
   "cell_type": "markdown",
   "id": "146d8a4aba9088ac",
   "metadata": {},
   "source": [
    "$$\n",
    "\\frac{\\partial C}{\\partial b_{i}^{(L)}} = \\frac{1}{N} \\sum_{n=1}^{N} \\sigma'(z_{i}^{(L)}(n)) 2(a_{i}^{(L)}(n) - y_i)\n",
    "$$\n"
   ]
  },
  {
   "cell_type": "markdown",
   "id": "c75da4b302ab05d3",
   "metadata": {},
   "source": [
    "# コーディングルール決めたい\n",
    "* インターフェースはActivator的な人の名前っぽく\n",
    "* 関数型はActivateみたいに動詞\n",
    "* 変数の型はActivationみたいに動名詞とか名詞\n",
    "\n",
    "# TODO\n",
    "\n",
    "networkもprocessorのようにinterfaceにして、実装をDIしたい\n",
    "\n",
    "cuDNNのtensorや、tensorflowのtensor等使用してみたい\n"
   ]
  }
 ],
 "metadata": {
  "kernelspec": {
   "display_name": "Python 3 (ipykernel)",
   "language": "python",
   "name": "python3"
  },
  "language_info": {
   "codemirror_mode": {
    "name": "ipython",
    "version": 3
   },
   "file_extension": ".py",
   "mimetype": "text/x-python",
   "name": "python",
   "nbconvert_exporter": "python",
   "pygments_lexer": "ipython3",
   "version": "3.12.3"
  }
 },
 "nbformat": 4,
 "nbformat_minor": 5
}
