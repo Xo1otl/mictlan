{
 "cells": [
  {
   "cell_type": "code",
   "execution_count": 23,
   "id": "0dda98be",
   "metadata": {},
   "outputs": [],
   "source": [
    "from manim import *\n",
    "import numpy as np\n",
    "\n",
    "\n",
    "class MultipleWaveFunctions(Scene):\n",
    "    def construct(self):\n",
    "        # 4つの波のパラメータ設定（πを使った分かりやすい値）\n",
    "        wave_params = [\n",
    "            {\"A\": 1.0, \"k\": 1.0, \"omega\": np.pi/2, \"phi\": 0.0, \"color\": BLUE, \"label\": \"Wave 1\",\n",
    "             \"omega_label\": \"\\\\pi/2\", \"phi_label\": \"0\"},\n",
    "            {\"A\": 1.5, \"k\": 0.5, \"omega\": np.pi/4, \"phi\": np.pi/4, \"color\": RED, \"label\": \"Wave 2\",\n",
    "             \"omega_label\": \"\\\\pi/4\", \"phi_label\": \"\\\\pi/4\"},\n",
    "            {\"A\": 0.8, \"k\": 1.5, \"omega\": np.pi, \"phi\": np.pi/2, \"color\": GREEN, \"label\": \"Wave 3\",\n",
    "             \"omega_label\": \"\\\\pi\", \"phi_label\": \"\\\\pi/2\"},\n",
    "            {\"A\": 1.2, \"k\": 0.8, \"omega\": 3*np.pi/4, \"phi\": -np.pi/3, \"color\": YELLOW, \"label\": \"Wave 4\",\n",
    "             \"omega_label\": \"3\\\\pi/4\", \"phi_label\": \"-\\\\pi/3\"}\n",
    "        ]\n",
    "\n",
    "        # 画面を上下左右に4分割\n",
    "        # 左上: t=0の回転\n",
    "        upper_left_center = np.array([-4.5, 2.0, 0])\n",
    "        # 左下: x=0の回転\n",
    "        lower_left_center = np.array([-4.5, -2.0, 0])\n",
    "        # 右上: t=0のグラフ\n",
    "        upper_right_center = np.array([2.0, 2.0, 0])\n",
    "        # 右下: x=0のグラフ\n",
    "        lower_right_center = np.array([2.0, -2.0, 0])\n",
    "\n",
    "        # ベクトル長さをグラフのy軸スケールに合わせる\n",
    "        vector_scale = 0.8\n",
    "\n",
    "        # 上部左：t=0固定（x変化）の回転ベクトル\n",
    "        fixed_t_vectors = []\n",
    "        fixed_t = 0  # t=0で固定\n",
    "\n",
    "        for i, params in enumerate(wave_params):\n",
    "            # 初期位相を反映したベクトル（x=0での値）\n",
    "            initial_phase = params[\"phi\"]\n",
    "            initial_end = upper_left_center + np.array([\n",
    "                np.cos(initial_phase) * params[\"A\"] * vector_scale,\n",
    "                np.sin(initial_phase) * params[\"A\"] * vector_scale,\n",
    "                0\n",
    "            ])\n",
    "\n",
    "            vector = Line(\n",
    "                start=upper_left_center,\n",
    "                end=initial_end,\n",
    "                color=params[\"color\"],\n",
    "                stroke_width=3\n",
    "            )\n",
    "            tip = Dot(initial_end, color=params[\"color\"], radius=0.05)\n",
    "            fixed_t_vectors.append(VGroup(vector, tip))\n",
    "\n",
    "        # 下部左：x=0固定（t変化）の回転ベクトル\n",
    "        fixed_x_vectors = []\n",
    "        fixed_x = 0  # x=0で固定\n",
    "\n",
    "        for i, params in enumerate(wave_params):\n",
    "            # 初期位相を反映したベクトル\n",
    "            initial_phase = params[\"phi\"]\n",
    "            initial_end = lower_left_center + np.array([\n",
    "                np.cos(initial_phase) * params[\"A\"] * vector_scale,\n",
    "                np.sin(initial_phase) * params[\"A\"] * vector_scale,\n",
    "                0\n",
    "            ])\n",
    "\n",
    "            vector = Line(\n",
    "                start=lower_left_center,\n",
    "                end=initial_end,\n",
    "                color=params[\"color\"],\n",
    "                stroke_width=3\n",
    "            )\n",
    "            tip = Dot(initial_end, color=params[\"color\"], radius=0.05)\n",
    "            fixed_x_vectors.append(VGroup(vector, tip))\n",
    "\n",
    "        # 右側上部：t=0固定の静止波形と移動する点\n",
    "        x_range = [-3*np.pi, 3*np.pi]\n",
    "        y_range = [-2.5, 2.5]\n",
    "\n",
    "        upper_axes = Axes(\n",
    "            x_range=[x_range[0], x_range[1], np.pi],\n",
    "            y_range=[y_range[0], y_range[1], 1],\n",
    "            tips=False,\n",
    "            axis_config={\"include_numbers\": False, \"font_size\": 20},\n",
    "            x_length=5,\n",
    "            y_length=2.5\n",
    "        ).move_to(upper_right_center)\n",
    "\n",
    "        # 右側下部：x=0固定の移動波形\n",
    "        lower_axes = Axes(\n",
    "            x_range=[x_range[0], x_range[1], np.pi],\n",
    "            y_range=[y_range[0], y_range[1], 1],\n",
    "            tips=False,\n",
    "            axis_config={\"include_numbers\": False, \"font_size\": 20},\n",
    "            x_length=5,\n",
    "            y_length=2.5\n",
    "        ).move_to(lower_right_center)\n",
    "\n",
    "        # π単位の目盛りラベルを追加（上部）\n",
    "        upper_x_labels = []\n",
    "        for i in range(-3, 4):\n",
    "            label = MathTex(f\"{i}\\\\pi\", font_size=16)\n",
    "            x_pos = upper_axes.c2p(i * np.pi, 0)[0]\n",
    "            label.move_to([x_pos, upper_axes.c2p(0, 0)[1] - 0.25, 0])\n",
    "            upper_x_labels.append(label)\n",
    "\n",
    "        # π単位の目盛りラベルを追加（下部）\n",
    "        lower_x_labels = []\n",
    "        for i in range(-3, 4):\n",
    "            label = MathTex(f\"{i}\\\\pi\", font_size=16)\n",
    "            x_pos = lower_axes.c2p(i * np.pi, 0)[0]\n",
    "            label.move_to([x_pos, lower_axes.c2p(0, 0)[1] - 0.25, 0])\n",
    "            lower_x_labels.append(label)\n",
    "\n",
    "        # ラベル\n",
    "        upper_x_label = MathTex(\"x\", font_size=20).next_to(upper_axes.x_axis, RIGHT)\n",
    "        upper_y_label = MathTex(r\"\\Phi\", font_size=20).next_to(upper_axes.y_axis, UP)\n",
    "        lower_x_label = MathTex(\"x\", font_size=20).next_to(lower_axes.x_axis, RIGHT)\n",
    "        lower_y_label = MathTex(r\"\\Phi\", font_size=20).next_to(lower_axes.y_axis, UP)\n",
    "\n",
    "        # 波動方程式の表示（上部に配置）\n",
    "        equation = MathTex(\n",
    "            r\"\\Phi(x,t) = A \\cdot e^{i(kx - \\omega t + \\phi)}\", font_size=28).to_edge(UP, buff=0.2)\n",
    "\n",
    "        # 各セクションのタイトル\n",
    "        upper_rotation_title = Text(\"t=0 fixed\", font_size=18).move_to(\n",
    "            upper_left_center + UP * 1.5)\n",
    "        lower_rotation_title = Text(\"x=0 fixed\", font_size=18).move_to(\n",
    "            lower_left_center + UP * 1.5)\n",
    "        upper_wave_title = Text(\"Static Wave\", font_size=18).move_to(\n",
    "            upper_right_center + UP * 1.5)\n",
    "        lower_wave_title = Text(\"Moving Wave\", font_size=18).move_to(\n",
    "            lower_right_center + UP * 1.5)\n",
    "\n",
    "        # 上部：t=0の静止波形（時間変化なし）\n",
    "        static_waves = []\n",
    "        for params in wave_params:\n",
    "            wave = upper_axes.plot(\n",
    "                lambda x: params[\"A\"] * np.cos(params[\"k\"] * x + params[\"phi\"]),\n",
    "                x_range=x_range,\n",
    "                color=params[\"color\"],\n",
    "                stroke_width=3\n",
    "            )\n",
    "            static_waves.append(wave)\n",
    "\n",
    "        # 上部：波の上を移動する点（各波に1つずつ）\n",
    "        moving_dots = []\n",
    "        for params in wave_params:\n",
    "            # 初期位置をx=0に設定（回転ベクトルと一致）\n",
    "            x_start = 0\n",
    "            y_start = params[\"A\"] * np.cos(params[\"k\"] * x_start + params[\"phi\"])\n",
    "            dot = Dot(\n",
    "                upper_axes.c2p(x_start, y_start),\n",
    "                color=params[\"color\"],\n",
    "                radius=0.06\n",
    "            )\n",
    "            moving_dots.append(dot)\n",
    "\n",
    "        # 下部：x=0の移動波形（初期値）\n",
    "        moving_waves = []\n",
    "        for params in wave_params:\n",
    "            wave = lower_axes.plot(\n",
    "                lambda x: params[\"A\"] * np.cos(params[\"k\"] * x + params[\"phi\"]),\n",
    "                x_range=x_range,\n",
    "                color=params[\"color\"],\n",
    "                stroke_width=3\n",
    "            )\n",
    "            moving_waves.append(wave)\n",
    "\n",
    "        # パラメータ表示の作成\n",
    "        param_groups = []\n",
    "        for i, params in enumerate(wave_params):\n",
    "            phase_velocity = params[\"omega\"] / params[\"k\"]\n",
    "            vp_label = f\"{phase_velocity:.2f}\"\n",
    "\n",
    "            param_text = VGroup(\n",
    "                Text(f\"{params['label']}:\", font_size=15,\n",
    "                     color=params[\"color\"]),\n",
    "                MathTex(f\"A={params['A']}\", font_size=13),\n",
    "                MathTex(f\"k={params['k']}\", font_size=13),\n",
    "                MathTex(f\"\\\\omega={params['omega_label']}\", font_size=13),\n",
    "                MathTex(f\"\\\\phi={params['phi_label']}\", font_size=13),\n",
    "                MathTex(f\"v_p={vp_label}\", font_size=13)\n",
    "            ).arrange(RIGHT, buff=0.08)\n",
    "            param_groups.append(param_text)\n",
    "\n",
    "        all_params = VGroup(*param_groups).arrange(DOWN,\n",
    "                                                   aligned_edge=LEFT, buff=0.1)\n",
    "        all_params.to_corner(DL, buff=0.5)\n",
    "\n",
    "        # シーンに追加\n",
    "        self.add(upper_axes, lower_axes, upper_x_label, upper_y_label, \n",
    "                 lower_x_label, lower_y_label, equation, all_params,\n",
    "                 upper_rotation_title, lower_rotation_title,\n",
    "                 upper_wave_title, lower_wave_title)\n",
    "        self.add(*upper_x_labels, *lower_x_labels)\n",
    "        self.add(*fixed_t_vectors, *fixed_x_vectors)\n",
    "\n",
    "        # 波形を描画\n",
    "        self.play(*[Create(wave) for wave in static_waves])\n",
    "        self.play(*[Create(wave) for wave in moving_waves])\n",
    "        self.add(*moving_dots)\n",
    "\n",
    "        # アニメーション開始時点の時間を記録\n",
    "        animation_start_time = self.renderer.time\n",
    "\n",
    "        # 更新関数\n",
    "        # 上部左：t=0固定でxが変化する回転\n",
    "        def update_fixed_t_vector(vector_group, dt, params):\n",
    "            t = self.renderer.time - animation_start_time\n",
    "            x = t * 2  # 時間経過をx座標の変化として利用\n",
    "            phase = params[\"k\"] * x + params[\"phi\"]\n",
    "            end_point = upper_left_center + np.array([\n",
    "                np.cos(phase) * params[\"A\"] * vector_scale,\n",
    "                np.sin(phase) * params[\"A\"] * vector_scale,\n",
    "                0\n",
    "            ])\n",
    "            new_line = Line(start=upper_left_center, end=end_point,\n",
    "                            color=params[\"color\"], stroke_width=3)\n",
    "            new_tip = Dot(end_point, color=params[\"color\"], radius=0.05)\n",
    "            vector_group.become(VGroup(new_line, new_tip))\n",
    "\n",
    "        # 下部左：x=0固定でtが変化する回転\n",
    "        def update_fixed_x_vector(vector_group, dt, params):\n",
    "            t = self.renderer.time - animation_start_time\n",
    "            phase = -params[\"omega\"] * t + params[\"phi\"]\n",
    "            end_point = lower_left_center + np.array([\n",
    "                np.cos(phase) * params[\"A\"] * vector_scale,\n",
    "                np.sin(phase) * params[\"A\"] * vector_scale,\n",
    "                0\n",
    "            ])\n",
    "            new_line = Line(start=lower_left_center, end=end_point,\n",
    "                            color=params[\"color\"], stroke_width=3)\n",
    "            new_tip = Dot(end_point, color=params[\"color\"], radius=0.05)\n",
    "            vector_group.become(VGroup(new_line, new_tip))\n",
    "\n",
    "        # 上部右：静止波の上を移動する点\n",
    "        def update_moving_dot(dot, dt, params):\n",
    "            t = self.renderer.time - animation_start_time\n",
    "            x = t * 2  # x=0から開始\n",
    "            # 範囲外に出たら反対側から再開\n",
    "            if x > x_range[1]:\n",
    "                x = 0\n",
    "            elif x < x_range[0]:\n",
    "                x = x_range[1] - (x_range[0] - x)\n",
    "            y = params[\"A\"] * np.cos(params[\"k\"] * x + params[\"phi\"])\n",
    "            dot.move_to(upper_axes.c2p(x, y))\n",
    "\n",
    "        # 下部右：移動する波\n",
    "        def update_moving_wave(wave, dt, params):\n",
    "            t = self.renderer.time - animation_start_time\n",
    "            new_wave = lower_axes.plot(\n",
    "                lambda x: params[\"A\"] * np.cos(params[\"k\"] * x - params[\"omega\"] * t + params[\"phi\"]),\n",
    "                x_range=x_range,\n",
    "                color=params[\"color\"],\n",
    "                stroke_width=3\n",
    "            )\n",
    "            wave.become(new_wave)\n",
    "\n",
    "        # アップデーター追加\n",
    "        for i, vector in enumerate(fixed_t_vectors):\n",
    "            params = wave_params[i]\n",
    "            vector.add_updater(\n",
    "                lambda mob, dt, p=params: update_fixed_t_vector(mob, dt, p))\n",
    "\n",
    "        for i, vector in enumerate(fixed_x_vectors):\n",
    "            params = wave_params[i]\n",
    "            vector.add_updater(\n",
    "                lambda mob, dt, p=params: update_fixed_x_vector(mob, dt, p))\n",
    "\n",
    "        for i, dot in enumerate(moving_dots):\n",
    "            params = wave_params[i]\n",
    "            dot.add_updater(\n",
    "                lambda mob, dt, p=params: update_moving_dot(mob, dt, p))\n",
    "\n",
    "        for i, wave in enumerate(moving_waves):\n",
    "            params = wave_params[i]\n",
    "            wave.add_updater(\n",
    "                lambda mob, dt, p=params: update_moving_wave(mob, dt, p))\n",
    "\n",
    "        self.wait(10)  # 10秒間アニメーション"
   ]
  },
  {
   "cell_type": "code",
   "execution_count": 24,
   "id": "4fd69a5c",
   "metadata": {},
   "outputs": [
    {
     "data": {
      "text/html": [
       "<pre style=\"white-space:pre;overflow-x:auto;line-height:normal;font-family:Menlo,'DejaVu Sans Mono',consolas,'Courier New',monospace\">Manim Community <span style=\"color: #008000; text-decoration-color: #008000\">v0.19.0</span>\n",
       "\n",
       "</pre>\n"
      ],
      "text/plain": [
       "Manim Community \u001b[32mv0.\u001b[0m\u001b[32m19.0\u001b[0m\n",
       "\n"
      ]
     },
     "metadata": {},
     "output_type": "display_data"
    },
    {
     "data": {
      "text/html": [
       "<pre style=\"white-space:pre;overflow-x:auto;line-height:normal;font-family:Menlo,'DejaVu Sans Mono',consolas,'Courier New',monospace\"><span style=\"color: #7fbfbf; text-decoration-color: #7fbfbf\">[06/11/25 10:16:00] </span><span style=\"color: #008000; text-decoration-color: #008000\">INFO    </span> Animation <span style=\"color: #008000; text-decoration-color: #008000\">0</span> : Using cached data <span style=\"font-weight: bold\">(</span>hash :                           <a href=\"file:///workspaces/mictlan/.venv/lib/python3.12/site-packages/manim/renderer/cairo_renderer.py\" target=\"_blank\"><span style=\"color: #7f7f7f; text-decoration-color: #7f7f7f\">cairo_renderer.py</span></a><span style=\"color: #7f7f7f; text-decoration-color: #7f7f7f\">:</span><a href=\"file:///workspaces/mictlan/.venv/lib/python3.12/site-packages/manim/renderer/cairo_renderer.py#89\" target=\"_blank\"><span style=\"color: #7f7f7f; text-decoration-color: #7f7f7f\">89</span></a>\n",
       "<span style=\"color: #7fbfbf; text-decoration-color: #7fbfbf\">                    </span>         3529212410_3799689698_3198205335<span style=\"font-weight: bold\">)</span>                                 <span style=\"color: #7f7f7f; text-decoration-color: #7f7f7f\">                    </span>\n",
       "</pre>\n"
      ],
      "text/plain": [
       "\u001b[2;36m[06/11/25 10:16:00]\u001b[0m\u001b[2;36m \u001b[0m\u001b[32mINFO    \u001b[0m Animation \u001b[32m0\u001b[0m : Using cached data \u001b[1m(\u001b[0mhash :                           \u001b]8;id=798090;file:///workspaces/mictlan/.venv/lib/python3.12/site-packages/manim/renderer/cairo_renderer.py\u001b\\\u001b[2mcairo_renderer.py\u001b[0m\u001b]8;;\u001b\\\u001b[2m:\u001b[0m\u001b]8;id=725887;file:///workspaces/mictlan/.venv/lib/python3.12/site-packages/manim/renderer/cairo_renderer.py#89\u001b\\\u001b[2m89\u001b[0m\u001b]8;;\u001b\\\n",
       "\u001b[2;36m                    \u001b[0m         3529212410_3799689698_3198205335\u001b[1m)\u001b[0m                                 \u001b[2m                    \u001b[0m\n"
      ]
     },
     "metadata": {},
     "output_type": "display_data"
    },
    {
     "name": "stderr",
     "output_type": "stream",
     "text": [
      "                                                                                               \r"
     ]
    },
    {
     "data": {
      "text/html": [
       "<pre style=\"white-space:pre;overflow-x:auto;line-height:normal;font-family:Menlo,'DejaVu Sans Mono',consolas,'Courier New',monospace\"><span style=\"color: #7fbfbf; text-decoration-color: #7fbfbf\">[06/11/25 10:16:04] </span><span style=\"color: #008000; text-decoration-color: #008000\">INFO    </span> Animation <span style=\"color: #008000; text-decoration-color: #008000\">1</span> : Partial movie file written in                   <a href=\"file:///workspaces/mictlan/.venv/lib/python3.12/site-packages/manim/scene/scene_file_writer.py\" target=\"_blank\"><span style=\"color: #7f7f7f; text-decoration-color: #7f7f7f\">scene_file_writer.py</span></a><span style=\"color: #7f7f7f; text-decoration-color: #7f7f7f\">:</span><a href=\"file:///workspaces/mictlan/.venv/lib/python3.12/site-packages/manim/scene/scene_file_writer.py#588\" target=\"_blank\"><span style=\"color: #7f7f7f; text-decoration-color: #7f7f7f\">588</span></a>\n",
       "<span style=\"color: #7fbfbf; text-decoration-color: #7fbfbf\">                    </span>         <span style=\"color: #008000; text-decoration-color: #008000\">'/workspaces/mictlan/research/syuron/docs/media/videos/docs/1</span> <span style=\"color: #7f7f7f; text-decoration-color: #7f7f7f\">                        </span>\n",
       "<span style=\"color: #7fbfbf; text-decoration-color: #7fbfbf\">                    </span>         <span style=\"color: #008000; text-decoration-color: #008000\">080p60/partial_movie_files/MultipleWaveFunctions/3040924799_2</span> <span style=\"color: #7f7f7f; text-decoration-color: #7f7f7f\">                        </span>\n",
       "<span style=\"color: #7fbfbf; text-decoration-color: #7fbfbf\">                    </span>         <span style=\"color: #008000; text-decoration-color: #008000\">440035185_85035285.mp4'</span>                                       <span style=\"color: #7f7f7f; text-decoration-color: #7f7f7f\">                        </span>\n",
       "</pre>\n"
      ],
      "text/plain": [
       "\u001b[2;36m[06/11/25 10:16:04]\u001b[0m\u001b[2;36m \u001b[0m\u001b[32mINFO    \u001b[0m Animation \u001b[32m1\u001b[0m : Partial movie file written in                   \u001b]8;id=498232;file:///workspaces/mictlan/.venv/lib/python3.12/site-packages/manim/scene/scene_file_writer.py\u001b\\\u001b[2mscene_file_writer.py\u001b[0m\u001b]8;;\u001b\\\u001b[2m:\u001b[0m\u001b]8;id=737947;file:///workspaces/mictlan/.venv/lib/python3.12/site-packages/manim/scene/scene_file_writer.py#588\u001b\\\u001b[2m588\u001b[0m\u001b]8;;\u001b\\\n",
       "\u001b[2;36m                    \u001b[0m         \u001b[32m'/workspaces/mictlan/research/syuron/docs/media/videos/docs/1\u001b[0m \u001b[2m                        \u001b[0m\n",
       "\u001b[2;36m                    \u001b[0m         \u001b[32m080p60/partial_movie_files/MultipleWaveFunctions/3040924799_2\u001b[0m \u001b[2m                        \u001b[0m\n",
       "\u001b[2;36m                    \u001b[0m         \u001b[32m440035185_85035285.mp4'\u001b[0m                                       \u001b[2m                        \u001b[0m\n"
      ]
     },
     "metadata": {},
     "output_type": "display_data"
    },
    {
     "name": "stderr",
     "output_type": "stream",
     "text": [
      "                                                            \r"
     ]
    },
    {
     "data": {
      "text/html": [
       "<pre style=\"white-space:pre;overflow-x:auto;line-height:normal;font-family:Menlo,'DejaVu Sans Mono',consolas,'Courier New',monospace\"><span style=\"color: #7fbfbf; text-decoration-color: #7fbfbf\">[06/11/25 10:16:39] </span><span style=\"color: #008000; text-decoration-color: #008000\">INFO    </span> Animation <span style=\"color: #008000; text-decoration-color: #008000\">2</span> : Partial movie file written in                   <a href=\"file:///workspaces/mictlan/.venv/lib/python3.12/site-packages/manim/scene/scene_file_writer.py\" target=\"_blank\"><span style=\"color: #7f7f7f; text-decoration-color: #7f7f7f\">scene_file_writer.py</span></a><span style=\"color: #7f7f7f; text-decoration-color: #7f7f7f\">:</span><a href=\"file:///workspaces/mictlan/.venv/lib/python3.12/site-packages/manim/scene/scene_file_writer.py#588\" target=\"_blank\"><span style=\"color: #7f7f7f; text-decoration-color: #7f7f7f\">588</span></a>\n",
       "<span style=\"color: #7fbfbf; text-decoration-color: #7fbfbf\">                    </span>         <span style=\"color: #008000; text-decoration-color: #008000\">'/workspaces/mictlan/research/syuron/docs/media/videos/docs/1</span> <span style=\"color: #7f7f7f; text-decoration-color: #7f7f7f\">                        </span>\n",
       "<span style=\"color: #7fbfbf; text-decoration-color: #7fbfbf\">                    </span>         <span style=\"color: #008000; text-decoration-color: #008000\">080p60/partial_movie_files/MultipleWaveFunctions/3040924799_2</span> <span style=\"color: #7f7f7f; text-decoration-color: #7f7f7f\">                        </span>\n",
       "<span style=\"color: #7fbfbf; text-decoration-color: #7fbfbf\">                    </span>         <span style=\"color: #008000; text-decoration-color: #008000\">478584755_3936727367.mp4'</span>                                     <span style=\"color: #7f7f7f; text-decoration-color: #7f7f7f\">                        </span>\n",
       "</pre>\n"
      ],
      "text/plain": [
       "\u001b[2;36m[06/11/25 10:16:39]\u001b[0m\u001b[2;36m \u001b[0m\u001b[32mINFO    \u001b[0m Animation \u001b[32m2\u001b[0m : Partial movie file written in                   \u001b]8;id=253584;file:///workspaces/mictlan/.venv/lib/python3.12/site-packages/manim/scene/scene_file_writer.py\u001b\\\u001b[2mscene_file_writer.py\u001b[0m\u001b]8;;\u001b\\\u001b[2m:\u001b[0m\u001b]8;id=288322;file:///workspaces/mictlan/.venv/lib/python3.12/site-packages/manim/scene/scene_file_writer.py#588\u001b\\\u001b[2m588\u001b[0m\u001b]8;;\u001b\\\n",
       "\u001b[2;36m                    \u001b[0m         \u001b[32m'/workspaces/mictlan/research/syuron/docs/media/videos/docs/1\u001b[0m \u001b[2m                        \u001b[0m\n",
       "\u001b[2;36m                    \u001b[0m         \u001b[32m080p60/partial_movie_files/MultipleWaveFunctions/3040924799_2\u001b[0m \u001b[2m                        \u001b[0m\n",
       "\u001b[2;36m                    \u001b[0m         \u001b[32m478584755_3936727367.mp4'\u001b[0m                                     \u001b[2m                        \u001b[0m\n"
      ]
     },
     "metadata": {},
     "output_type": "display_data"
    },
    {
     "data": {
      "text/html": [
       "<pre style=\"white-space:pre;overflow-x:auto;line-height:normal;font-family:Menlo,'DejaVu Sans Mono',consolas,'Courier New',monospace\"><span style=\"color: #7fbfbf; text-decoration-color: #7fbfbf\">                    </span><span style=\"color: #008000; text-decoration-color: #008000\">INFO    </span> Combining to Movie file.                                      <a href=\"file:///workspaces/mictlan/.venv/lib/python3.12/site-packages/manim/scene/scene_file_writer.py\" target=\"_blank\"><span style=\"color: #7f7f7f; text-decoration-color: #7f7f7f\">scene_file_writer.py</span></a><span style=\"color: #7f7f7f; text-decoration-color: #7f7f7f\">:</span><a href=\"file:///workspaces/mictlan/.venv/lib/python3.12/site-packages/manim/scene/scene_file_writer.py#739\" target=\"_blank\"><span style=\"color: #7f7f7f; text-decoration-color: #7f7f7f\">739</span></a>\n",
       "</pre>\n"
      ],
      "text/plain": [
       "\u001b[2;36m                   \u001b[0m\u001b[2;36m \u001b[0m\u001b[32mINFO    \u001b[0m Combining to Movie file.                                      \u001b]8;id=920702;file:///workspaces/mictlan/.venv/lib/python3.12/site-packages/manim/scene/scene_file_writer.py\u001b\\\u001b[2mscene_file_writer.py\u001b[0m\u001b]8;;\u001b\\\u001b[2m:\u001b[0m\u001b]8;id=41913;file:///workspaces/mictlan/.venv/lib/python3.12/site-packages/manim/scene/scene_file_writer.py#739\u001b\\\u001b[2m739\u001b[0m\u001b]8;;\u001b\\\n"
      ]
     },
     "metadata": {},
     "output_type": "display_data"
    },
    {
     "data": {
      "text/html": [
       "<pre style=\"white-space:pre;overflow-x:auto;line-height:normal;font-family:Menlo,'DejaVu Sans Mono',consolas,'Courier New',monospace\"><span style=\"color: #7fbfbf; text-decoration-color: #7fbfbf\">                    </span><span style=\"color: #008000; text-decoration-color: #008000\">INFO    </span>                                                               <a href=\"file:///workspaces/mictlan/.venv/lib/python3.12/site-packages/manim/scene/scene_file_writer.py\" target=\"_blank\"><span style=\"color: #7f7f7f; text-decoration-color: #7f7f7f\">scene_file_writer.py</span></a><span style=\"color: #7f7f7f; text-decoration-color: #7f7f7f\">:</span><a href=\"file:///workspaces/mictlan/.venv/lib/python3.12/site-packages/manim/scene/scene_file_writer.py#886\" target=\"_blank\"><span style=\"color: #7f7f7f; text-decoration-color: #7f7f7f\">886</span></a>\n",
       "<span style=\"color: #7fbfbf; text-decoration-color: #7fbfbf\">                    </span>         <span style=\"color: #808000; text-decoration-color: #808000; font-weight: bold\">File</span> ready at                                                 <span style=\"color: #7f7f7f; text-decoration-color: #7f7f7f\">                        </span>\n",
       "<span style=\"color: #7fbfbf; text-decoration-color: #7fbfbf\">                    </span>         <span style=\"color: #008000; text-decoration-color: #008000\">'/workspaces/mictlan/research/syuron/docs/media/videos/docs/1</span> <span style=\"color: #7f7f7f; text-decoration-color: #7f7f7f\">                        </span>\n",
       "<span style=\"color: #7fbfbf; text-decoration-color: #7fbfbf\">                    </span>         <span style=\"color: #008000; text-decoration-color: #008000\">080p60/MultipleWaveFunctions.mp4'</span>                             <span style=\"color: #7f7f7f; text-decoration-color: #7f7f7f\">                        </span>\n",
       "<span style=\"color: #7fbfbf; text-decoration-color: #7fbfbf\">                    </span>                                                                       <span style=\"color: #7f7f7f; text-decoration-color: #7f7f7f\">                        </span>\n",
       "</pre>\n"
      ],
      "text/plain": [
       "\u001b[2;36m                   \u001b[0m\u001b[2;36m \u001b[0m\u001b[32mINFO    \u001b[0m                                                               \u001b]8;id=258418;file:///workspaces/mictlan/.venv/lib/python3.12/site-packages/manim/scene/scene_file_writer.py\u001b\\\u001b[2mscene_file_writer.py\u001b[0m\u001b]8;;\u001b\\\u001b[2m:\u001b[0m\u001b]8;id=532049;file:///workspaces/mictlan/.venv/lib/python3.12/site-packages/manim/scene/scene_file_writer.py#886\u001b\\\u001b[2m886\u001b[0m\u001b]8;;\u001b\\\n",
       "\u001b[2;36m                    \u001b[0m         \u001b[1;33mFile\u001b[0m ready at                                                 \u001b[2m                        \u001b[0m\n",
       "\u001b[2;36m                    \u001b[0m         \u001b[32m'/workspaces/mictlan/research/syuron/docs/media/videos/docs/1\u001b[0m \u001b[2m                        \u001b[0m\n",
       "\u001b[2;36m                    \u001b[0m         \u001b[32m080p60/MultipleWaveFunctions.mp4'\u001b[0m                             \u001b[2m                        \u001b[0m\n",
       "\u001b[2;36m                    \u001b[0m                                                                       \u001b[2m                        \u001b[0m\n"
      ]
     },
     "metadata": {},
     "output_type": "display_data"
    },
    {
     "data": {
      "text/html": [
       "<pre style=\"white-space:pre;overflow-x:auto;line-height:normal;font-family:Menlo,'DejaVu Sans Mono',consolas,'Courier New',monospace\"><span style=\"color: #7fbfbf; text-decoration-color: #7fbfbf\">                    </span><span style=\"color: #008000; text-decoration-color: #008000\">INFO    </span> <span style=\"color: #808000; text-decoration-color: #808000; font-weight: bold\">Rendered</span> MultipleWaveFunctions                                            <a href=\"file:///workspaces/mictlan/.venv/lib/python3.12/site-packages/manim/scene/scene.py\" target=\"_blank\"><span style=\"color: #7f7f7f; text-decoration-color: #7f7f7f\">scene.py</span></a><span style=\"color: #7f7f7f; text-decoration-color: #7f7f7f\">:</span><a href=\"file:///workspaces/mictlan/.venv/lib/python3.12/site-packages/manim/scene/scene.py#255\" target=\"_blank\"><span style=\"color: #7f7f7f; text-decoration-color: #7f7f7f\">255</span></a>\n",
       "<span style=\"color: #7fbfbf; text-decoration-color: #7fbfbf\">                    </span>         <span style=\"color: #808000; text-decoration-color: #808000; font-weight: bold\">Played</span> <span style=\"color: #008000; text-decoration-color: #008000\">3</span> <span style=\"color: #808000; text-decoration-color: #808000; font-weight: bold\">animations</span>                                                       <span style=\"color: #7f7f7f; text-decoration-color: #7f7f7f\">            </span>\n",
       "</pre>\n"
      ],
      "text/plain": [
       "\u001b[2;36m                   \u001b[0m\u001b[2;36m \u001b[0m\u001b[32mINFO    \u001b[0m \u001b[1;33mRendered\u001b[0m MultipleWaveFunctions                                            \u001b]8;id=556821;file:///workspaces/mictlan/.venv/lib/python3.12/site-packages/manim/scene/scene.py\u001b\\\u001b[2mscene.py\u001b[0m\u001b]8;;\u001b\\\u001b[2m:\u001b[0m\u001b]8;id=737245;file:///workspaces/mictlan/.venv/lib/python3.12/site-packages/manim/scene/scene.py#255\u001b\\\u001b[2m255\u001b[0m\u001b]8;;\u001b\\\n",
       "\u001b[2;36m                    \u001b[0m         \u001b[1;33mPlayed\u001b[0m \u001b[32m3\u001b[0m \u001b[1;33manimations\u001b[0m                                                       \u001b[2m            \u001b[0m\n"
      ]
     },
     "metadata": {},
     "output_type": "display_data"
    },
    {
     "data": {
      "text/html": [
       "<video src=\"media/jupyter/MultipleWaveFunctions@2025-06-11@10-16-39.mp4\" controls autoplay loop style=\"max-width: 60%;\"  >\n",
       "      Your browser does not support the <code>video</code> element.\n",
       "    </video>"
      ],
      "text/plain": [
       "<IPython.core.display.Video object>"
      ]
     },
     "metadata": {},
     "output_type": "display_data"
    }
   ],
   "source": [
    "# 動画を生成\n",
    "%manim -qh MultipleWaveFunctions"
   ]
  }
 ],
 "metadata": {
  "kernelspec": {
   "display_name": "mictlan",
   "language": "python",
   "name": "python3"
  },
  "language_info": {
   "codemirror_mode": {
    "name": "ipython",
    "version": 3
   },
   "file_extension": ".py",
   "mimetype": "text/x-python",
   "name": "python",
   "nbconvert_exporter": "python",
   "pygments_lexer": "ipython3",
   "version": "3.12.10"
  }
 },
 "nbformat": 4,
 "nbformat_minor": 5
}
