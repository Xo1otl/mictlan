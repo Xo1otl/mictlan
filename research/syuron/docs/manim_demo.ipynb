{
 "cells": [
  {
   "cell_type": "code",
   "execution_count": 31,
   "id": "0dda98be",
   "metadata": {},
   "outputs": [],
   "source": [
    "from manim import *\n",
    "import numpy as np\n",
    "\n",
    "class MultipleWaveFunctions(Scene):\n",
    "    def construct(self):\n",
    "        # 4つの波のパラメータ設定（自由に変更可能）\n",
    "        wave_params = [\n",
    "            {\"A\": 1.0, \"k\": 1.0, \"omega\": 2.0, \"phi\": 0.0, \"color\": BLUE, \"label\": \"Wave 1\"},\n",
    "            {\"A\": 1.5, \"k\": 0.5, \"omega\": 1.5, \"phi\": np.pi/4, \"color\": RED, \"label\": \"Wave 2\"},\n",
    "            {\"A\": 0.8, \"k\": 1.5, \"omega\": 2.5, \"phi\": np.pi/2, \"color\": GREEN, \"label\": \"Wave 3\"},\n",
    "            {\"A\": 1.2, \"k\": 0.8, \"omega\": 1.8, \"phi\": -np.pi/3, \"color\": YELLOW, \"label\": \"Wave 4\"}\n",
    "        ]\n",
    "        \n",
    "        # x軸の範囲\n",
    "        x_range = [-9, 9]\n",
    "        y_range = [-2.5, 2.5]\n",
    "        \n",
    "        # 座標軸の作成（サイズを小さくして中央下に配置）\n",
    "        axes = Axes(\n",
    "            x_range=[x_range[0], x_range[1], 2],\n",
    "            y_range=[y_range[0], y_range[1], 1],\n",
    "            tips=False,\n",
    "            axis_config={\"include_numbers\": True},\n",
    "            x_length=8,\n",
    "            y_length=4\n",
    "        ).shift(DOWN * 0.5)\n",
    "        \n",
    "        # ラベル\n",
    "        x_label = MathTex(\"x\", font_size=24).next_to(axes.x_axis, RIGHT)\n",
    "        y_label = MathTex(r\"\\Phi(x,t)\", font_size=24).next_to(axes.y_axis, UP)\n",
    "        \n",
    "        # 波動方程式の表示（上部に配置）\n",
    "        equation = MathTex(r\"\\Phi(x,t) = A \\cdot e^{i(kx - \\omega t + \\phi)}\", font_size=28).to_edge(UP, buff=0.3)\n",
    "        equation_real = Text(\"(Real part shown)\", font_size=16).next_to(equation, DOWN, buff=0.1)\n",
    "        \n",
    "        # 波動関数の初期値を作成\n",
    "        waves = []\n",
    "        for params in wave_params:\n",
    "            wave = axes.plot(\n",
    "                lambda x: params[\"A\"] * np.cos(params[\"k\"] * x + params[\"phi\"]),\n",
    "                x_range=x_range,\n",
    "                color=params[\"color\"]\n",
    "            )\n",
    "            waves.append(wave)\n",
    "        \n",
    "        # パラメータ表示の作成（コンパクトに）\n",
    "        param_groups = []\n",
    "        for i, params in enumerate(wave_params):\n",
    "            param_text = VGroup(\n",
    "                Text(f\"{params['label']}:\", font_size=12, color=params[\"color\"]),\n",
    "                MathTex(f\"A={params['A']}\", font_size=10),\n",
    "                MathTex(f\"k={params['k']}\", font_size=10),\n",
    "                MathTex(f\"\\\\omega={params['omega']}\", font_size=10),\n",
    "                MathTex(f\"\\\\phi={params['phi']:.2f}\", font_size=10)\n",
    "            ).arrange(DOWN, aligned_edge=LEFT, buff=0.05)\n",
    "            param_groups.append(param_text)\n",
    "        \n",
    "        # パラメータ表示を左上に配置（グラフと重ならないように）\n",
    "        all_params = VGroup(*param_groups).arrange(RIGHT, buff=0.3).to_corner(UL, buff=0.3).shift(DOWN*1.5)\n",
    "        \n",
    "        # 凡例作成（右上に配置）\n",
    "        legend_items = []\n",
    "        for params in wave_params:\n",
    "            legend_item = VGroup(\n",
    "                Line(ORIGIN, RIGHT*0.3, color=params[\"color\"], stroke_width=3),\n",
    "                Text(params[\"label\"], font_size=12, color=params[\"color\"])\n",
    "            ).arrange(RIGHT, buff=0.1)\n",
    "            legend_items.append(legend_item)\n",
    "        \n",
    "        legend = VGroup(*legend_items).arrange(DOWN, aligned_edge=LEFT, buff=0.1).to_corner(UR, buff=0.3).shift(DOWN*1.5)\n",
    "        \n",
    "        # シーンに追加\n",
    "        self.add(axes, x_label, y_label, equation, equation_real, all_params, legend)\n",
    "        \n",
    "        # 初期波形を描画\n",
    "        self.play(*[Create(wave) for wave in waves])\n",
    "        \n",
    "        # 時間変化のアニメーション用のアップデーター\n",
    "        def update_wave(wave, dt, params):\n",
    "            t = self.renderer.time\n",
    "            new_wave = axes.plot(\n",
    "                lambda x: params[\"A\"] * np.cos(params[\"k\"] * x - params[\"omega\"] * t + params[\"phi\"]),\n",
    "                x_range=x_range,\n",
    "                color=params[\"color\"]\n",
    "            )\n",
    "            wave.become(new_wave)\n",
    "        \n",
    "        # 各波にアップデーターを追加\n",
    "        for i, wave in enumerate(waves):\n",
    "            params = wave_params[i]\n",
    "            wave.add_updater(lambda mob, dt, p=params: update_wave(mob, dt, p))\n",
    "        \n",
    "        self.wait(10)  # 6秒間アニメーション"
   ]
  },
  {
   "cell_type": "code",
   "execution_count": 34,
   "id": "4fd69a5c",
   "metadata": {},
   "outputs": [
    {
     "data": {
      "text/html": [
       "<pre style=\"white-space:pre;overflow-x:auto;line-height:normal;font-family:Menlo,'DejaVu Sans Mono',consolas,'Courier New',monospace\">Manim Community <span style=\"color: #008000; text-decoration-color: #008000\">v0.19.0</span>\n",
       "\n",
       "</pre>\n"
      ],
      "text/plain": [
       "Manim Community \u001b[32mv0.\u001b[0m\u001b[32m19.0\u001b[0m\n",
       "\n"
      ]
     },
     "metadata": {},
     "output_type": "display_data"
    },
    {
     "name": "stderr",
     "output_type": "stream",
     "text": [
      "                                                                                              \r"
     ]
    },
    {
     "data": {
      "text/html": [
       "<pre style=\"white-space:pre;overflow-x:auto;line-height:normal;font-family:Menlo,'DejaVu Sans Mono',consolas,'Courier New',monospace\"><span style=\"color: #7fbfbf; text-decoration-color: #7fbfbf\">[06/10/25 09:26:55] </span><span style=\"color: #008000; text-decoration-color: #008000\">INFO    </span> Animation <span style=\"color: #008000; text-decoration-color: #008000\">0</span> : Partial movie file written in                   <a href=\"file:///workspaces/mictlan/.venv/lib/python3.12/site-packages/manim/scene/scene_file_writer.py\" target=\"_blank\"><span style=\"color: #7f7f7f; text-decoration-color: #7f7f7f\">scene_file_writer.py</span></a><span style=\"color: #7f7f7f; text-decoration-color: #7f7f7f\">:</span><a href=\"file:///workspaces/mictlan/.venv/lib/python3.12/site-packages/manim/scene/scene_file_writer.py#588\" target=\"_blank\"><span style=\"color: #7f7f7f; text-decoration-color: #7f7f7f\">588</span></a>\n",
       "<span style=\"color: #7fbfbf; text-decoration-color: #7fbfbf\">                    </span>         <span style=\"color: #008000; text-decoration-color: #008000\">'/workspaces/mictlan/research/syuron/docs/media/videos/docs/1</span> <span style=\"color: #7f7f7f; text-decoration-color: #7f7f7f\">                        </span>\n",
       "<span style=\"color: #7fbfbf; text-decoration-color: #7fbfbf\">                    </span>         <span style=\"color: #008000; text-decoration-color: #008000\">080p60/partial_movie_files/MultipleWaveFunctions/3529212410_7</span> <span style=\"color: #7f7f7f; text-decoration-color: #7f7f7f\">                        </span>\n",
       "<span style=\"color: #7fbfbf; text-decoration-color: #7fbfbf\">                    </span>         <span style=\"color: #008000; text-decoration-color: #008000\">41576159_3983232454.mp4'</span>                                      <span style=\"color: #7f7f7f; text-decoration-color: #7f7f7f\">                        </span>\n",
       "</pre>\n"
      ],
      "text/plain": [
       "\u001b[2;36m[06/10/25 09:26:55]\u001b[0m\u001b[2;36m \u001b[0m\u001b[32mINFO    \u001b[0m Animation \u001b[32m0\u001b[0m : Partial movie file written in                   \u001b]8;id=481352;file:///workspaces/mictlan/.venv/lib/python3.12/site-packages/manim/scene/scene_file_writer.py\u001b\\\u001b[2mscene_file_writer.py\u001b[0m\u001b]8;;\u001b\\\u001b[2m:\u001b[0m\u001b]8;id=474114;file:///workspaces/mictlan/.venv/lib/python3.12/site-packages/manim/scene/scene_file_writer.py#588\u001b\\\u001b[2m588\u001b[0m\u001b]8;;\u001b\\\n",
       "\u001b[2;36m                    \u001b[0m         \u001b[32m'/workspaces/mictlan/research/syuron/docs/media/videos/docs/1\u001b[0m \u001b[2m                        \u001b[0m\n",
       "\u001b[2;36m                    \u001b[0m         \u001b[32m080p60/partial_movie_files/MultipleWaveFunctions/3529212410_7\u001b[0m \u001b[2m                        \u001b[0m\n",
       "\u001b[2;36m                    \u001b[0m         \u001b[32m41576159_3983232454.mp4'\u001b[0m                                      \u001b[2m                        \u001b[0m\n"
      ]
     },
     "metadata": {},
     "output_type": "display_data"
    },
    {
     "name": "stderr",
     "output_type": "stream",
     "text": [
      "                                                            \r"
     ]
    },
    {
     "data": {
      "text/html": [
       "<pre style=\"white-space:pre;overflow-x:auto;line-height:normal;font-family:Menlo,'DejaVu Sans Mono',consolas,'Courier New',monospace\"><span style=\"color: #7fbfbf; text-decoration-color: #7fbfbf\">[06/10/25 09:27:27] </span><span style=\"color: #008000; text-decoration-color: #008000\">INFO    </span> Animation <span style=\"color: #008000; text-decoration-color: #008000\">1</span> : Partial movie file written in                   <a href=\"file:///workspaces/mictlan/.venv/lib/python3.12/site-packages/manim/scene/scene_file_writer.py\" target=\"_blank\"><span style=\"color: #7f7f7f; text-decoration-color: #7f7f7f\">scene_file_writer.py</span></a><span style=\"color: #7f7f7f; text-decoration-color: #7f7f7f\">:</span><a href=\"file:///workspaces/mictlan/.venv/lib/python3.12/site-packages/manim/scene/scene_file_writer.py#588\" target=\"_blank\"><span style=\"color: #7f7f7f; text-decoration-color: #7f7f7f\">588</span></a>\n",
       "<span style=\"color: #7fbfbf; text-decoration-color: #7fbfbf\">                    </span>         <span style=\"color: #008000; text-decoration-color: #008000\">'/workspaces/mictlan/research/syuron/docs/media/videos/docs/1</span> <span style=\"color: #7f7f7f; text-decoration-color: #7f7f7f\">                        </span>\n",
       "<span style=\"color: #7fbfbf; text-decoration-color: #7fbfbf\">                    </span>         <span style=\"color: #008000; text-decoration-color: #008000\">080p60/partial_movie_files/MultipleWaveFunctions/3040924799_2</span> <span style=\"color: #7f7f7f; text-decoration-color: #7f7f7f\">                        </span>\n",
       "<span style=\"color: #7fbfbf; text-decoration-color: #7fbfbf\">                    </span>         <span style=\"color: #008000; text-decoration-color: #008000\">478584755_2255514234.mp4'</span>                                     <span style=\"color: #7f7f7f; text-decoration-color: #7f7f7f\">                        </span>\n",
       "</pre>\n"
      ],
      "text/plain": [
       "\u001b[2;36m[06/10/25 09:27:27]\u001b[0m\u001b[2;36m \u001b[0m\u001b[32mINFO    \u001b[0m Animation \u001b[32m1\u001b[0m : Partial movie file written in                   \u001b]8;id=272300;file:///workspaces/mictlan/.venv/lib/python3.12/site-packages/manim/scene/scene_file_writer.py\u001b\\\u001b[2mscene_file_writer.py\u001b[0m\u001b]8;;\u001b\\\u001b[2m:\u001b[0m\u001b]8;id=542883;file:///workspaces/mictlan/.venv/lib/python3.12/site-packages/manim/scene/scene_file_writer.py#588\u001b\\\u001b[2m588\u001b[0m\u001b]8;;\u001b\\\n",
       "\u001b[2;36m                    \u001b[0m         \u001b[32m'/workspaces/mictlan/research/syuron/docs/media/videos/docs/1\u001b[0m \u001b[2m                        \u001b[0m\n",
       "\u001b[2;36m                    \u001b[0m         \u001b[32m080p60/partial_movie_files/MultipleWaveFunctions/3040924799_2\u001b[0m \u001b[2m                        \u001b[0m\n",
       "\u001b[2;36m                    \u001b[0m         \u001b[32m478584755_2255514234.mp4'\u001b[0m                                     \u001b[2m                        \u001b[0m\n"
      ]
     },
     "metadata": {},
     "output_type": "display_data"
    },
    {
     "data": {
      "text/html": [
       "<pre style=\"white-space:pre;overflow-x:auto;line-height:normal;font-family:Menlo,'DejaVu Sans Mono',consolas,'Courier New',monospace\"><span style=\"color: #7fbfbf; text-decoration-color: #7fbfbf\">                    </span><span style=\"color: #008000; text-decoration-color: #008000\">INFO    </span> Combining to Movie file.                                      <a href=\"file:///workspaces/mictlan/.venv/lib/python3.12/site-packages/manim/scene/scene_file_writer.py\" target=\"_blank\"><span style=\"color: #7f7f7f; text-decoration-color: #7f7f7f\">scene_file_writer.py</span></a><span style=\"color: #7f7f7f; text-decoration-color: #7f7f7f\">:</span><a href=\"file:///workspaces/mictlan/.venv/lib/python3.12/site-packages/manim/scene/scene_file_writer.py#739\" target=\"_blank\"><span style=\"color: #7f7f7f; text-decoration-color: #7f7f7f\">739</span></a>\n",
       "</pre>\n"
      ],
      "text/plain": [
       "\u001b[2;36m                   \u001b[0m\u001b[2;36m \u001b[0m\u001b[32mINFO    \u001b[0m Combining to Movie file.                                      \u001b]8;id=838871;file:///workspaces/mictlan/.venv/lib/python3.12/site-packages/manim/scene/scene_file_writer.py\u001b\\\u001b[2mscene_file_writer.py\u001b[0m\u001b]8;;\u001b\\\u001b[2m:\u001b[0m\u001b]8;id=631270;file:///workspaces/mictlan/.venv/lib/python3.12/site-packages/manim/scene/scene_file_writer.py#739\u001b\\\u001b[2m739\u001b[0m\u001b]8;;\u001b\\\n"
      ]
     },
     "metadata": {},
     "output_type": "display_data"
    },
    {
     "data": {
      "text/html": [
       "<pre style=\"white-space:pre;overflow-x:auto;line-height:normal;font-family:Menlo,'DejaVu Sans Mono',consolas,'Courier New',monospace\"><span style=\"color: #7fbfbf; text-decoration-color: #7fbfbf\">                    </span><span style=\"color: #008000; text-decoration-color: #008000\">INFO    </span>                                                               <a href=\"file:///workspaces/mictlan/.venv/lib/python3.12/site-packages/manim/scene/scene_file_writer.py\" target=\"_blank\"><span style=\"color: #7f7f7f; text-decoration-color: #7f7f7f\">scene_file_writer.py</span></a><span style=\"color: #7f7f7f; text-decoration-color: #7f7f7f\">:</span><a href=\"file:///workspaces/mictlan/.venv/lib/python3.12/site-packages/manim/scene/scene_file_writer.py#886\" target=\"_blank\"><span style=\"color: #7f7f7f; text-decoration-color: #7f7f7f\">886</span></a>\n",
       "<span style=\"color: #7fbfbf; text-decoration-color: #7fbfbf\">                    </span>         <span style=\"color: #808000; text-decoration-color: #808000; font-weight: bold\">File</span> ready at                                                 <span style=\"color: #7f7f7f; text-decoration-color: #7f7f7f\">                        </span>\n",
       "<span style=\"color: #7fbfbf; text-decoration-color: #7fbfbf\">                    </span>         <span style=\"color: #008000; text-decoration-color: #008000\">'/workspaces/mictlan/research/syuron/docs/media/videos/docs/1</span> <span style=\"color: #7f7f7f; text-decoration-color: #7f7f7f\">                        </span>\n",
       "<span style=\"color: #7fbfbf; text-decoration-color: #7fbfbf\">                    </span>         <span style=\"color: #008000; text-decoration-color: #008000\">080p60/MultipleWaveFunctions.mp4'</span>                             <span style=\"color: #7f7f7f; text-decoration-color: #7f7f7f\">                        </span>\n",
       "<span style=\"color: #7fbfbf; text-decoration-color: #7fbfbf\">                    </span>                                                                       <span style=\"color: #7f7f7f; text-decoration-color: #7f7f7f\">                        </span>\n",
       "</pre>\n"
      ],
      "text/plain": [
       "\u001b[2;36m                   \u001b[0m\u001b[2;36m \u001b[0m\u001b[32mINFO    \u001b[0m                                                               \u001b]8;id=107087;file:///workspaces/mictlan/.venv/lib/python3.12/site-packages/manim/scene/scene_file_writer.py\u001b\\\u001b[2mscene_file_writer.py\u001b[0m\u001b]8;;\u001b\\\u001b[2m:\u001b[0m\u001b]8;id=382173;file:///workspaces/mictlan/.venv/lib/python3.12/site-packages/manim/scene/scene_file_writer.py#886\u001b\\\u001b[2m886\u001b[0m\u001b]8;;\u001b\\\n",
       "\u001b[2;36m                    \u001b[0m         \u001b[1;33mFile\u001b[0m ready at                                                 \u001b[2m                        \u001b[0m\n",
       "\u001b[2;36m                    \u001b[0m         \u001b[32m'/workspaces/mictlan/research/syuron/docs/media/videos/docs/1\u001b[0m \u001b[2m                        \u001b[0m\n",
       "\u001b[2;36m                    \u001b[0m         \u001b[32m080p60/MultipleWaveFunctions.mp4'\u001b[0m                             \u001b[2m                        \u001b[0m\n",
       "\u001b[2;36m                    \u001b[0m                                                                       \u001b[2m                        \u001b[0m\n"
      ]
     },
     "metadata": {},
     "output_type": "display_data"
    },
    {
     "data": {
      "text/html": [
       "<pre style=\"white-space:pre;overflow-x:auto;line-height:normal;font-family:Menlo,'DejaVu Sans Mono',consolas,'Courier New',monospace\"><span style=\"color: #7fbfbf; text-decoration-color: #7fbfbf\">                    </span><span style=\"color: #008000; text-decoration-color: #008000\">INFO    </span> <span style=\"color: #808000; text-decoration-color: #808000; font-weight: bold\">Rendered</span> MultipleWaveFunctions                                            <a href=\"file:///workspaces/mictlan/.venv/lib/python3.12/site-packages/manim/scene/scene.py\" target=\"_blank\"><span style=\"color: #7f7f7f; text-decoration-color: #7f7f7f\">scene.py</span></a><span style=\"color: #7f7f7f; text-decoration-color: #7f7f7f\">:</span><a href=\"file:///workspaces/mictlan/.venv/lib/python3.12/site-packages/manim/scene/scene.py#255\" target=\"_blank\"><span style=\"color: #7f7f7f; text-decoration-color: #7f7f7f\">255</span></a>\n",
       "<span style=\"color: #7fbfbf; text-decoration-color: #7fbfbf\">                    </span>         <span style=\"color: #808000; text-decoration-color: #808000; font-weight: bold\">Played</span> <span style=\"color: #008000; text-decoration-color: #008000\">2</span> <span style=\"color: #808000; text-decoration-color: #808000; font-weight: bold\">animations</span>                                                       <span style=\"color: #7f7f7f; text-decoration-color: #7f7f7f\">            </span>\n",
       "</pre>\n"
      ],
      "text/plain": [
       "\u001b[2;36m                   \u001b[0m\u001b[2;36m \u001b[0m\u001b[32mINFO    \u001b[0m \u001b[1;33mRendered\u001b[0m MultipleWaveFunctions                                            \u001b]8;id=994605;file:///workspaces/mictlan/.venv/lib/python3.12/site-packages/manim/scene/scene.py\u001b\\\u001b[2mscene.py\u001b[0m\u001b]8;;\u001b\\\u001b[2m:\u001b[0m\u001b]8;id=946320;file:///workspaces/mictlan/.venv/lib/python3.12/site-packages/manim/scene/scene.py#255\u001b\\\u001b[2m255\u001b[0m\u001b]8;;\u001b\\\n",
       "\u001b[2;36m                    \u001b[0m         \u001b[1;33mPlayed\u001b[0m \u001b[32m2\u001b[0m \u001b[1;33manimations\u001b[0m                                                       \u001b[2m            \u001b[0m\n"
      ]
     },
     "metadata": {},
     "output_type": "display_data"
    },
    {
     "data": {
      "text/html": [
       "<video src=\"media/jupyter/MultipleWaveFunctions@2025-06-10@09-27-27.mp4\" controls autoplay loop style=\"max-width: 60%;\"  >\n",
       "      Your browser does not support the <code>video</code> element.\n",
       "    </video>"
      ],
      "text/plain": [
       "<IPython.core.display.Video object>"
      ]
     },
     "metadata": {},
     "output_type": "display_data"
    }
   ],
   "source": [
    "# 動画を生成\n",
    "%manim -qh MultipleWaveFunctions"
   ]
  }
 ],
 "metadata": {
  "kernelspec": {
   "display_name": ".venv",
   "language": "python",
   "name": "python3"
  },
  "language_info": {
   "codemirror_mode": {
    "name": "ipython",
    "version": 3
   },
   "file_extension": ".py",
   "mimetype": "text/x-python",
   "name": "python",
   "nbconvert_exporter": "python",
   "pygments_lexer": "ipython3",
   "version": "3.12.10"
  }
 },
 "nbformat": 4,
 "nbformat_minor": 5
}
