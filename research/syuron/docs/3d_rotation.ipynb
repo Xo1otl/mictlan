{
 "cells": [
  {
   "cell_type": "code",
   "execution_count": 19,
   "id": "f1e2a454",
   "metadata": {},
   "outputs": [],
   "source": [
    "from manim import *\n",
    "import numpy as np\n",
    "\n",
    "\n",
    "class MinkowskiWave3D(ThreeDScene):\n",
    "    def construct(self):\n",
    "        # カメラ設定\n",
    "        self.set_camera_orientation(phi=60 * DEGREES, theta=-45 * DEGREES)\n",
    "        \n",
    "        # 波のパラメータ\n",
    "        A = 1.5  # 振幅\n",
    "        k = 1.0  # 波数\n",
    "        omega = np.pi/2  # 角周波数\n",
    "        phi = 0  # 初期位相\n",
    "        \n",
    "        # 時空の範囲\n",
    "        x_range = [-2*np.pi, 2*np.pi]\n",
    "        t_range = [0, 4*np.pi]\n",
    "        \n",
    "        # 3D座標軸\n",
    "        axes = ThreeDAxes(\n",
    "            x_range=[x_range[0], x_range[1], np.pi],\n",
    "            y_range=[t_range[0], t_range[1], np.pi],\n",
    "            z_range=[-2, 2, 1],\n",
    "            x_length=8,\n",
    "            y_length=6,\n",
    "            z_length=4,\n",
    "            axis_config={\"include_tip\": True}\n",
    "        )\n",
    "        \n",
    "        # 軸ラベル\n",
    "        x_label = MathTex(\"x\").next_to(axes.x_axis, RIGHT)\n",
    "        t_label = MathTex(\"t\").next_to(axes.y_axis, UP)\n",
    "        psi_label = MathTex(r\"\\Psi\").next_to(axes.z_axis, UP)\n",
    "        \n",
    "        # 波動関数の表示（実部）\n",
    "        def wave_func(x, t):\n",
    "            return A * np.cos(k * x - omega * t + phi)\n",
    "        \n",
    "        # 3D曲面として波を生成\n",
    "        resolution = 30\n",
    "        surface = Surface(\n",
    "            lambda u, v: axes.c2p(u, v, wave_func(u, v)),\n",
    "            u_range=x_range,\n",
    "            v_range=t_range,\n",
    "            resolution=(resolution, resolution),\n",
    "            checkerboard_colors=[BLUE_D, BLUE_E],\n",
    "            fill_opacity=0.7,\n",
    "            stroke_width=0.5\n",
    "        )\n",
    "        \n",
    "        # t=0での断面（xを変化）\n",
    "        t_fixed = 0\n",
    "        x_curve = ParametricFunction(\n",
    "            lambda x: axes.c2p(x, t_fixed, wave_func(x, t_fixed)),\n",
    "            t_range=x_range,\n",
    "            color=RED,\n",
    "            stroke_width=4\n",
    "        )\n",
    "        \n",
    "        # x=0での断面（tを変化）\n",
    "        x_fixed = 0\n",
    "        t_curve = ParametricFunction(\n",
    "            lambda t: axes.c2p(x_fixed, t, wave_func(x_fixed, t)),\n",
    "            t_range=t_range,\n",
    "            color=GREEN,\n",
    "            stroke_width=4\n",
    "        )\n",
    "        \n",
    "        # 移動する点\n",
    "        # x方向に移動する点（t=0固定）\n",
    "        x_dot = Dot3D(\n",
    "            axes.c2p(x_range[0], t_fixed, wave_func(x_range[0], t_fixed)),\n",
    "            color=RED,\n",
    "            radius=0.08\n",
    "        )\n",
    "        \n",
    "        # t方向に移動する点（x=0固定）\n",
    "        t_dot = Dot3D(\n",
    "            axes.c2p(x_fixed, t_range[0], wave_func(x_fixed, t_range[0])),\n",
    "            color=GREEN,\n",
    "            radius=0.08\n",
    "        )\n",
    "        \n",
    "        # 複素平面（投影先）の設定\n",
    "        # x移動の投影先（画面左下）\n",
    "        complex_plane_x = ComplexPlane(\n",
    "            x_range=[-2, 2],\n",
    "            y_range=[-2, 2],\n",
    "            x_length=3,\n",
    "            y_length=3,\n",
    "            background_line_style={\n",
    "                \"stroke_color\": GREY,\n",
    "                \"stroke_width\": 1,\n",
    "                \"stroke_opacity\": 0.5\n",
    "            }\n",
    "        ).to_corner(DL, buff=0.5)\n",
    "        \n",
    "        # t移動の投影先（画面右下）\n",
    "        complex_plane_t = ComplexPlane(\n",
    "            x_range=[-2, 2],\n",
    "            y_range=[-2, 2],\n",
    "            x_length=3,\n",
    "            y_length=3,\n",
    "            background_line_style={\n",
    "                \"stroke_color\": GREY,\n",
    "                \"stroke_width\": 1,\n",
    "                \"stroke_opacity\": 0.5\n",
    "            }\n",
    "        ).to_corner(DR, buff=0.5)\n",
    "        \n",
    "        # 複素平面のラベル\n",
    "        x_plane_label = Text(\"t=0 (x varies)\", font_size=20).next_to(complex_plane_x, UP)\n",
    "        t_plane_label = Text(\"x=0 (t varies)\", font_size=20).next_to(complex_plane_t, UP)\n",
    "        \n",
    "        # 投影ベクトル（初期位置）\n",
    "        x_vector = Arrow(\n",
    "            complex_plane_x.get_center(),\n",
    "            complex_plane_x.n2p(complex(A * np.cos(k * x_range[0] + phi), \n",
    "                                       A * np.sin(k * x_range[0] + phi))),\n",
    "            color=RED,\n",
    "            stroke_width=3\n",
    "        )\n",
    "        x_vector_tip = Dot(x_vector.get_end(), color=RED, radius=0.06)\n",
    "        \n",
    "        t_vector = Arrow(\n",
    "            complex_plane_t.get_center(),\n",
    "            complex_plane_t.n2p(complex(A * np.cos(phi), \n",
    "                                       A * np.sin(phi))),\n",
    "            color=GREEN,\n",
    "            stroke_width=3\n",
    "        )\n",
    "        t_vector_tip = Dot(t_vector.get_end(), color=GREEN, radius=0.06)\n",
    "        \n",
    "        # タイトル\n",
    "        title = Text(\"Wave in Minkowski Spacetime\", font_size=30).to_edge(UP)\n",
    "        equation = MathTex(\n",
    "            r\"\\Psi(x,t) = A e^{i(kx - \\omega t + \\phi)}\",\n",
    "            font_size=24\n",
    "        ).next_to(title, DOWN)\n",
    "        \n",
    "        # シーンに追加\n",
    "        self.add(axes, x_label, t_label, psi_label)\n",
    "        self.add(surface)\n",
    "        self.add(x_curve, t_curve)\n",
    "        self.add(x_dot, t_dot)\n",
    "        self.add(complex_plane_x, complex_plane_t)\n",
    "        self.add(x_plane_label, t_plane_label)\n",
    "        self.add(x_vector, x_vector_tip, t_vector, t_vector_tip)\n",
    "        self.add_fixed_in_frame_mobjects(title, equation)\n",
    "        self.add_fixed_in_frame_mobjects(complex_plane_x, complex_plane_t)\n",
    "        self.add_fixed_in_frame_mobjects(x_plane_label, t_plane_label)\n",
    "        self.add_fixed_in_frame_mobjects(x_vector, x_vector_tip, t_vector, t_vector_tip)\n",
    "        \n",
    "        # アニメーション\n",
    "        # x方向の移動\n",
    "        x_path = ParametricFunction(\n",
    "            lambda x: axes.c2p(x, t_fixed, wave_func(x, t_fixed)),\n",
    "            t_range=x_range,\n",
    "            color=RED\n",
    "        )\n",
    "        \n",
    "        # t方向の移動\n",
    "        t_path = ParametricFunction(\n",
    "            lambda t: axes.c2p(x_fixed, t, wave_func(x_fixed, t)),\n",
    "            t_range=t_range,\n",
    "            color=GREEN\n",
    "        )\n",
    "        \n",
    "        # 更新関数\n",
    "        def update_x_vector(mob, alpha):\n",
    "            x = interpolate(x_range[0], x_range[1], alpha)\n",
    "            phase = k * x + phi\n",
    "            new_end = complex_plane_x.n2p(complex(A * np.cos(phase), \n",
    "                                                  A * np.sin(phase)))\n",
    "            mob.put_start_and_end_on(complex_plane_x.get_center(), new_end)\n",
    "            \n",
    "        def update_x_tip(mob, alpha):\n",
    "            x = interpolate(x_range[0], x_range[1], alpha)\n",
    "            phase = k * x + phi\n",
    "            new_pos = complex_plane_x.n2p(complex(A * np.cos(phase), \n",
    "                                                 A * np.sin(phase)))\n",
    "            mob.move_to(new_pos)\n",
    "            \n",
    "        def update_t_vector(mob, alpha):\n",
    "            t = interpolate(t_range[0], t_range[1], alpha)\n",
    "            phase = -omega * t + phi\n",
    "            new_end = complex_plane_t.n2p(complex(A * np.cos(phase), \n",
    "                                                  A * np.sin(phase)))\n",
    "            mob.put_start_and_end_on(complex_plane_t.get_center(), new_end)\n",
    "            \n",
    "        def update_t_tip(mob, alpha):\n",
    "            t = interpolate(t_range[0], t_range[1], alpha)\n",
    "            phase = -omega * t + phi\n",
    "            new_pos = complex_plane_t.n2p(complex(A * np.cos(phase), \n",
    "                                                 A * np.sin(phase)))\n",
    "            mob.move_to(new_pos)\n",
    "        \n",
    "        # カメラを少し動かす\n",
    "        self.begin_ambient_camera_rotation(rate=0.1)\n",
    "        \n",
    "        # 同時アニメーション\n",
    "        self.play(\n",
    "            MoveAlongPath(x_dot, x_path),\n",
    "            MoveAlongPath(t_dot, t_path),\n",
    "            UpdateFromAlphaFunc(x_vector, update_x_vector),\n",
    "            UpdateFromAlphaFunc(x_vector_tip, update_x_tip),\n",
    "            UpdateFromAlphaFunc(t_vector, update_t_vector),\n",
    "            UpdateFromAlphaFunc(t_vector_tip, update_t_tip),\n",
    "            run_time=8,\n",
    "            rate_func=linear\n",
    "        )\n",
    "        \n",
    "        self.wait(2)"
   ]
  },
  {
   "cell_type": "code",
   "execution_count": 20,
   "id": "74e85523",
   "metadata": {},
   "outputs": [
    {
     "data": {
      "text/html": [
       "<pre style=\"white-space:pre;overflow-x:auto;line-height:normal;font-family:Menlo,'DejaVu Sans Mono',consolas,'Courier New',monospace\">Manim Community <span style=\"color: #008000; text-decoration-color: #008000\">v0.19.0</span>\n",
       "\n",
       "</pre>\n"
      ],
      "text/plain": [
       "Manim Community \u001b[32mv0.\u001b[0m\u001b[32m19.0\u001b[0m\n",
       "\n"
      ]
     },
     "metadata": {},
     "output_type": "display_data"
    },
    {
     "name": "stderr",
     "output_type": "stream",
     "text": [
      "                                                                                                            \r"
     ]
    },
    {
     "data": {
      "text/html": [
       "<pre style=\"white-space:pre;overflow-x:auto;line-height:normal;font-family:Menlo,'DejaVu Sans Mono',consolas,'Courier New',monospace\"><span style=\"color: #7fbfbf; text-decoration-color: #7fbfbf\">[06/11/25 08:27:26] </span><span style=\"color: #008000; text-decoration-color: #008000\">INFO    </span> Animation <span style=\"color: #008000; text-decoration-color: #008000\">0</span> : Partial movie file written in                   <a href=\"file:///workspaces/mictlan/.venv/lib/python3.12/site-packages/manim/scene/scene_file_writer.py\" target=\"_blank\"><span style=\"color: #7f7f7f; text-decoration-color: #7f7f7f\">scene_file_writer.py</span></a><span style=\"color: #7f7f7f; text-decoration-color: #7f7f7f\">:</span><a href=\"file:///workspaces/mictlan/.venv/lib/python3.12/site-packages/manim/scene/scene_file_writer.py#588\" target=\"_blank\"><span style=\"color: #7f7f7f; text-decoration-color: #7f7f7f\">588</span></a>\n",
       "<span style=\"color: #7fbfbf; text-decoration-color: #7fbfbf\">                    </span>         <span style=\"color: #008000; text-decoration-color: #008000\">'/workspaces/mictlan/research/syuron/docs/media/videos/docs/1</span> <span style=\"color: #7f7f7f; text-decoration-color: #7f7f7f\">                        </span>\n",
       "<span style=\"color: #7fbfbf; text-decoration-color: #7fbfbf\">                    </span>         <span style=\"color: #008000; text-decoration-color: #008000\">080p60/partial_movie_files/MinkowskiWave3D/3846668646_2997339</span> <span style=\"color: #7f7f7f; text-decoration-color: #7f7f7f\">                        </span>\n",
       "<span style=\"color: #7fbfbf; text-decoration-color: #7fbfbf\">                    </span>         <span style=\"color: #008000; text-decoration-color: #008000\">53_1261375191.mp4'</span>                                            <span style=\"color: #7f7f7f; text-decoration-color: #7f7f7f\">                        </span>\n",
       "</pre>\n"
      ],
      "text/plain": [
       "\u001b[2;36m[06/11/25 08:27:26]\u001b[0m\u001b[2;36m \u001b[0m\u001b[32mINFO    \u001b[0m Animation \u001b[32m0\u001b[0m : Partial movie file written in                   \u001b]8;id=547090;file:///workspaces/mictlan/.venv/lib/python3.12/site-packages/manim/scene/scene_file_writer.py\u001b\\\u001b[2mscene_file_writer.py\u001b[0m\u001b]8;;\u001b\\\u001b[2m:\u001b[0m\u001b]8;id=813368;file:///workspaces/mictlan/.venv/lib/python3.12/site-packages/manim/scene/scene_file_writer.py#588\u001b\\\u001b[2m588\u001b[0m\u001b]8;;\u001b\\\n",
       "\u001b[2;36m                    \u001b[0m         \u001b[32m'/workspaces/mictlan/research/syuron/docs/media/videos/docs/1\u001b[0m \u001b[2m                        \u001b[0m\n",
       "\u001b[2;36m                    \u001b[0m         \u001b[32m080p60/partial_movie_files/MinkowskiWave3D/3846668646_2997339\u001b[0m \u001b[2m                        \u001b[0m\n",
       "\u001b[2;36m                    \u001b[0m         \u001b[32m53_1261375191.mp4'\u001b[0m                                            \u001b[2m                        \u001b[0m\n"
      ]
     },
     "metadata": {},
     "output_type": "display_data"
    },
    {
     "name": "stderr",
     "output_type": "stream",
     "text": [
      "                                                            \r"
     ]
    },
    {
     "data": {
      "text/html": [
       "<pre style=\"white-space:pre;overflow-x:auto;line-height:normal;font-family:Menlo,'DejaVu Sans Mono',consolas,'Courier New',monospace\"><span style=\"color: #7fbfbf; text-decoration-color: #7fbfbf\">[06/11/25 08:29:22] </span><span style=\"color: #008000; text-decoration-color: #008000\">INFO    </span> Animation <span style=\"color: #008000; text-decoration-color: #008000\">1</span> : Partial movie file written in                   <a href=\"file:///workspaces/mictlan/.venv/lib/python3.12/site-packages/manim/scene/scene_file_writer.py\" target=\"_blank\"><span style=\"color: #7f7f7f; text-decoration-color: #7f7f7f\">scene_file_writer.py</span></a><span style=\"color: #7f7f7f; text-decoration-color: #7f7f7f\">:</span><a href=\"file:///workspaces/mictlan/.venv/lib/python3.12/site-packages/manim/scene/scene_file_writer.py#588\" target=\"_blank\"><span style=\"color: #7f7f7f; text-decoration-color: #7f7f7f\">588</span></a>\n",
       "<span style=\"color: #7fbfbf; text-decoration-color: #7fbfbf\">                    </span>         <span style=\"color: #008000; text-decoration-color: #008000\">'/workspaces/mictlan/research/syuron/docs/media/videos/docs/1</span> <span style=\"color: #7f7f7f; text-decoration-color: #7f7f7f\">                        </span>\n",
       "<span style=\"color: #7fbfbf; text-decoration-color: #7fbfbf\">                    </span>         <span style=\"color: #008000; text-decoration-color: #008000\">080p60/partial_movie_files/MinkowskiWave3D/253757304_24428107</span> <span style=\"color: #7f7f7f; text-decoration-color: #7f7f7f\">                        </span>\n",
       "<span style=\"color: #7fbfbf; text-decoration-color: #7fbfbf\">                    </span>         <span style=\"color: #008000; text-decoration-color: #008000\">29_3684541631.mp4'</span>                                            <span style=\"color: #7f7f7f; text-decoration-color: #7f7f7f\">                        </span>\n",
       "</pre>\n"
      ],
      "text/plain": [
       "\u001b[2;36m[06/11/25 08:29:22]\u001b[0m\u001b[2;36m \u001b[0m\u001b[32mINFO    \u001b[0m Animation \u001b[32m1\u001b[0m : Partial movie file written in                   \u001b]8;id=846371;file:///workspaces/mictlan/.venv/lib/python3.12/site-packages/manim/scene/scene_file_writer.py\u001b\\\u001b[2mscene_file_writer.py\u001b[0m\u001b]8;;\u001b\\\u001b[2m:\u001b[0m\u001b]8;id=729933;file:///workspaces/mictlan/.venv/lib/python3.12/site-packages/manim/scene/scene_file_writer.py#588\u001b\\\u001b[2m588\u001b[0m\u001b]8;;\u001b\\\n",
       "\u001b[2;36m                    \u001b[0m         \u001b[32m'/workspaces/mictlan/research/syuron/docs/media/videos/docs/1\u001b[0m \u001b[2m                        \u001b[0m\n",
       "\u001b[2;36m                    \u001b[0m         \u001b[32m080p60/partial_movie_files/MinkowskiWave3D/253757304_24428107\u001b[0m \u001b[2m                        \u001b[0m\n",
       "\u001b[2;36m                    \u001b[0m         \u001b[32m29_3684541631.mp4'\u001b[0m                                            \u001b[2m                        \u001b[0m\n"
      ]
     },
     "metadata": {},
     "output_type": "display_data"
    },
    {
     "data": {
      "text/html": [
       "<pre style=\"white-space:pre;overflow-x:auto;line-height:normal;font-family:Menlo,'DejaVu Sans Mono',consolas,'Courier New',monospace\"><span style=\"color: #7fbfbf; text-decoration-color: #7fbfbf\">                    </span><span style=\"color: #008000; text-decoration-color: #008000\">INFO    </span> Combining to Movie file.                                      <a href=\"file:///workspaces/mictlan/.venv/lib/python3.12/site-packages/manim/scene/scene_file_writer.py\" target=\"_blank\"><span style=\"color: #7f7f7f; text-decoration-color: #7f7f7f\">scene_file_writer.py</span></a><span style=\"color: #7f7f7f; text-decoration-color: #7f7f7f\">:</span><a href=\"file:///workspaces/mictlan/.venv/lib/python3.12/site-packages/manim/scene/scene_file_writer.py#739\" target=\"_blank\"><span style=\"color: #7f7f7f; text-decoration-color: #7f7f7f\">739</span></a>\n",
       "</pre>\n"
      ],
      "text/plain": [
       "\u001b[2;36m                   \u001b[0m\u001b[2;36m \u001b[0m\u001b[32mINFO    \u001b[0m Combining to Movie file.                                      \u001b]8;id=724156;file:///workspaces/mictlan/.venv/lib/python3.12/site-packages/manim/scene/scene_file_writer.py\u001b\\\u001b[2mscene_file_writer.py\u001b[0m\u001b]8;;\u001b\\\u001b[2m:\u001b[0m\u001b]8;id=348495;file:///workspaces/mictlan/.venv/lib/python3.12/site-packages/manim/scene/scene_file_writer.py#739\u001b\\\u001b[2m739\u001b[0m\u001b]8;;\u001b\\\n"
      ]
     },
     "metadata": {},
     "output_type": "display_data"
    },
    {
     "data": {
      "text/html": [
       "<pre style=\"white-space:pre;overflow-x:auto;line-height:normal;font-family:Menlo,'DejaVu Sans Mono',consolas,'Courier New',monospace\"><span style=\"color: #7fbfbf; text-decoration-color: #7fbfbf\">                    </span><span style=\"color: #008000; text-decoration-color: #008000\">INFO    </span>                                                               <a href=\"file:///workspaces/mictlan/.venv/lib/python3.12/site-packages/manim/scene/scene_file_writer.py\" target=\"_blank\"><span style=\"color: #7f7f7f; text-decoration-color: #7f7f7f\">scene_file_writer.py</span></a><span style=\"color: #7f7f7f; text-decoration-color: #7f7f7f\">:</span><a href=\"file:///workspaces/mictlan/.venv/lib/python3.12/site-packages/manim/scene/scene_file_writer.py#886\" target=\"_blank\"><span style=\"color: #7f7f7f; text-decoration-color: #7f7f7f\">886</span></a>\n",
       "<span style=\"color: #7fbfbf; text-decoration-color: #7fbfbf\">                    </span>         <span style=\"color: #808000; text-decoration-color: #808000; font-weight: bold\">File</span> ready at                                                 <span style=\"color: #7f7f7f; text-decoration-color: #7f7f7f\">                        </span>\n",
       "<span style=\"color: #7fbfbf; text-decoration-color: #7fbfbf\">                    </span>         <span style=\"color: #008000; text-decoration-color: #008000\">'/workspaces/mictlan/research/syuron/docs/media/videos/docs/1</span> <span style=\"color: #7f7f7f; text-decoration-color: #7f7f7f\">                        </span>\n",
       "<span style=\"color: #7fbfbf; text-decoration-color: #7fbfbf\">                    </span>         <span style=\"color: #008000; text-decoration-color: #008000\">080p60/MinkowskiWave3D.mp4'</span>                                   <span style=\"color: #7f7f7f; text-decoration-color: #7f7f7f\">                        </span>\n",
       "<span style=\"color: #7fbfbf; text-decoration-color: #7fbfbf\">                    </span>                                                                       <span style=\"color: #7f7f7f; text-decoration-color: #7f7f7f\">                        </span>\n",
       "</pre>\n"
      ],
      "text/plain": [
       "\u001b[2;36m                   \u001b[0m\u001b[2;36m \u001b[0m\u001b[32mINFO    \u001b[0m                                                               \u001b]8;id=396734;file:///workspaces/mictlan/.venv/lib/python3.12/site-packages/manim/scene/scene_file_writer.py\u001b\\\u001b[2mscene_file_writer.py\u001b[0m\u001b]8;;\u001b\\\u001b[2m:\u001b[0m\u001b]8;id=973987;file:///workspaces/mictlan/.venv/lib/python3.12/site-packages/manim/scene/scene_file_writer.py#886\u001b\\\u001b[2m886\u001b[0m\u001b]8;;\u001b\\\n",
       "\u001b[2;36m                    \u001b[0m         \u001b[1;33mFile\u001b[0m ready at                                                 \u001b[2m                        \u001b[0m\n",
       "\u001b[2;36m                    \u001b[0m         \u001b[32m'/workspaces/mictlan/research/syuron/docs/media/videos/docs/1\u001b[0m \u001b[2m                        \u001b[0m\n",
       "\u001b[2;36m                    \u001b[0m         \u001b[32m080p60/MinkowskiWave3D.mp4'\u001b[0m                                   \u001b[2m                        \u001b[0m\n",
       "\u001b[2;36m                    \u001b[0m                                                                       \u001b[2m                        \u001b[0m\n"
      ]
     },
     "metadata": {},
     "output_type": "display_data"
    },
    {
     "data": {
      "text/html": [
       "<pre style=\"white-space:pre;overflow-x:auto;line-height:normal;font-family:Menlo,'DejaVu Sans Mono',consolas,'Courier New',monospace\"><span style=\"color: #7fbfbf; text-decoration-color: #7fbfbf\">                    </span><span style=\"color: #008000; text-decoration-color: #008000\">INFO    </span> <span style=\"color: #808000; text-decoration-color: #808000; font-weight: bold\">Rendered</span> MinkowskiWave3D                                                  <a href=\"file:///workspaces/mictlan/.venv/lib/python3.12/site-packages/manim/scene/scene.py\" target=\"_blank\"><span style=\"color: #7f7f7f; text-decoration-color: #7f7f7f\">scene.py</span></a><span style=\"color: #7f7f7f; text-decoration-color: #7f7f7f\">:</span><a href=\"file:///workspaces/mictlan/.venv/lib/python3.12/site-packages/manim/scene/scene.py#255\" target=\"_blank\"><span style=\"color: #7f7f7f; text-decoration-color: #7f7f7f\">255</span></a>\n",
       "<span style=\"color: #7fbfbf; text-decoration-color: #7fbfbf\">                    </span>         <span style=\"color: #808000; text-decoration-color: #808000; font-weight: bold\">Played</span> <span style=\"color: #008000; text-decoration-color: #008000\">2</span> <span style=\"color: #808000; text-decoration-color: #808000; font-weight: bold\">animations</span>                                                       <span style=\"color: #7f7f7f; text-decoration-color: #7f7f7f\">            </span>\n",
       "</pre>\n"
      ],
      "text/plain": [
       "\u001b[2;36m                   \u001b[0m\u001b[2;36m \u001b[0m\u001b[32mINFO    \u001b[0m \u001b[1;33mRendered\u001b[0m MinkowskiWave3D                                                  \u001b]8;id=114549;file:///workspaces/mictlan/.venv/lib/python3.12/site-packages/manim/scene/scene.py\u001b\\\u001b[2mscene.py\u001b[0m\u001b]8;;\u001b\\\u001b[2m:\u001b[0m\u001b]8;id=61222;file:///workspaces/mictlan/.venv/lib/python3.12/site-packages/manim/scene/scene.py#255\u001b\\\u001b[2m255\u001b[0m\u001b]8;;\u001b\\\n",
       "\u001b[2;36m                    \u001b[0m         \u001b[1;33mPlayed\u001b[0m \u001b[32m2\u001b[0m \u001b[1;33manimations\u001b[0m                                                       \u001b[2m            \u001b[0m\n"
      ]
     },
     "metadata": {},
     "output_type": "display_data"
    },
    {
     "data": {
      "text/html": [
       "<video src=\"media/jupyter/MinkowskiWave3D@2025-06-11@08-29-22.mp4\" controls autoplay loop style=\"max-width: 60%;\"  >\n",
       "      Your browser does not support the <code>video</code> element.\n",
       "    </video>"
      ],
      "text/plain": [
       "<IPython.core.display.Video object>"
      ]
     },
     "metadata": {},
     "output_type": "display_data"
    }
   ],
   "source": [
    "%manim -qh MinkowskiWave3D"
   ]
  }
 ],
 "metadata": {
  "kernelspec": {
   "display_name": ".venv",
   "language": "python",
   "name": "python3"
  },
  "language_info": {
   "codemirror_mode": {
    "name": "ipython",
    "version": 3
   },
   "file_extension": ".py",
   "mimetype": "text/x-python",
   "name": "python",
   "nbconvert_exporter": "python",
   "pygments_lexer": "ipython3",
   "version": "3.12.10"
  }
 },
 "nbformat": 4,
 "nbformat_minor": 5
}
