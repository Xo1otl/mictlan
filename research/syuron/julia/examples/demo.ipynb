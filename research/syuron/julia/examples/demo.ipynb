{
 "cells": [
  {
   "cell_type": "code",
   "execution_count": 2,
   "metadata": {},
   "outputs": [
    {
     "name": "stdout",
     "output_type": "stream",
     "text": [
      "Size of hx[:, :, 1]: (102, 202)\n",
      "Size of hy[:, :, 1]: (102, 202)\n",
      "Size of epsilon_r: (101, 201)\n"
     ]
    },
    {
     "ename": "AssertionError",
     "evalue": "AssertionError: Size mismatch between hx and epsilon_r",
     "output_type": "error",
     "traceback": [
      "AssertionError: Size mismatch between hx and epsilon_r\n",
      "\n",
      "Stacktrace:\n",
      " [1] top-level scope\n",
      "   @ /workspaces/mictlan/research/syuron/julia/examples/jl_notebook_cell_df34fa98e69747e1a8f8a730347b8e2f_W0sdnNjb2RlLXJlbW90ZQ==.jl:38"
     ]
    }
   ],
   "source": [
    "using WGMODES\n",
    "using Plots\n",
    "\n",
    "# パラメータの設定\n",
    "lambda = 1.55 # 波長\n",
    "dx = dy = 0.02\n",
    "x = -2:dx:2\n",
    "y = -1:dy:1\n",
    "\n",
    "# 誘電率の分布を定義\n",
    "index = [y_val < 0 ? 1.5 : (y_val < 0.2 || (y_val < 0.5 && abs(x_val) < 1) ? 3.45 : 1.0) for y_val in y, x_val in x]\n",
    "epsilon = index .^ 2\n",
    "epsilon_r = epsilon\n",
    "\n",
    "# モード計算のパラメータ\n",
    "guess = maximum(index)\n",
    "nmodes = 1\n",
    "boundary = \"0000\"\n",
    "\n",
    "# モード計算\n",
    "hx, hy, neff = WGMODES.wgmodes(lambda, guess, nmodes, dx, dy, epsilon, boundary);\n",
    "\n",
    "# 定数の定義\n",
    "c0 = 299792458            # 真空中の光速 (m/s)\n",
    "mu0 = 4π * 1e-7           # 真空の透磁率 (H/m)\n",
    "epsilon0 = 1 / (mu0 * c0^2)  # 真空の誘電率 (F/m)\n",
    "omega = 2π * c0 / lambda    # 角周波数 (rad/s)\n",
    "\n",
    "# 伝搬定数の計算\n",
    "k0 = 2π / lambda            # 真空中の波数\n",
    "beta = neff[1] * k0         # 最初のモードの伝搬定数\n",
    "\n",
    "# 配列サイズの確認\n",
    "println(\"Size of hx[:, :, 1]: \", size(hx[:, :, 1]))\n",
    "println(\"Size of hy[:, :, 1]: \", size(hy[:, :, 1]))\n",
    "println(\"Size of epsilon_r: \", size(epsilon_r))\n",
    "\n",
    "@assert size(hx[:, :, 1]) == size(epsilon_r) \"Size mismatch between hx and epsilon_r\"\n",
    "@assert size(hy[:, :, 1]) == size(epsilon_r) \"Size mismatch between hy and epsilon_r\"\n",
    "\n",
    "# 電界成分の計算（ベクトル化）\n",
    "epsilon_point = epsilon_r * epsilon0\n",
    "Ex = (beta ./ (omega .* epsilon_point)) .* hy[:, :, 1]\n",
    "Ey = (beta ./ (omega .* epsilon_point)) .* hx[:, :, 1]\n",
    "\n",
    "# プロット\n",
    "Plots.plot(\n",
    "    Plots.heatmap(x, y, index',\n",
    "        title=\"Waveguide Index Structure\",\n",
    "        aspectratio=1,\n",
    "    ),\n",
    "    Plots.heatmap(x, y, real.(Ex)',\n",
    "        title=\"Electric Field Distribution (E_x)\",\n",
    "        aspectratio=1,\n",
    "    ),\n",
    "    Plots.heatmap(x, y, real.(Ey)',\n",
    "        title=\"Electric Field Distribution (E_y)\",\n",
    "        aspectratio=1,\n",
    "    ),\n",
    "    size=(800, 600),\n",
    ")\n"
   ]
  }
 ],
 "metadata": {
  "kernelspec": {
   "display_name": "Julia 1.10.5",
   "language": "julia",
   "name": "julia-1.10"
  },
  "language_info": {
   "file_extension": ".jl",
   "mimetype": "application/julia",
   "name": "julia",
   "version": "1.10.5"
  }
 },
 "nbformat": 4,
 "nbformat_minor": 2
}
