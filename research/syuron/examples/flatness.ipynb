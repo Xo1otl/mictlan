{
 "cells": [
  {
   "cell_type": "code",
   "execution_count": null,
   "id": "c0c218f1",
   "metadata": {},
   "outputs": [],
   "source": [
    "# フラットさを測る方法のPoC\n",
    "\n"
   ]
  }
 ],
 "metadata": {
  "language_info": {
   "name": "python"
  }
 },
 "nbformat": 4,
 "nbformat_minor": 5
}
