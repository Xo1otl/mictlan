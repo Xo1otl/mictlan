{
 "cells": [
  {
   "cell_type": "code",
   "execution_count": null,
   "metadata": {},
   "outputs": [
    {
     "name": "stderr",
     "output_type": "stream",
     "text": [
      "2025-03-17 10:32:30.394433: E external/local_xla/xla/stream_executor/cuda/cuda_fft.cc:467] Unable to register cuFFT factory: Attempting to register factory for plugin cuFFT when one has already been registered\n",
      "WARNING: All log messages before absl::InitializeLog() is called are written to STDERR\n",
      "E0000 00:00:1742207550.415509   31762 cuda_dnn.cc:8579] Unable to register cuDNN factory: Attempting to register factory for plugin cuDNN when one has already been registered\n",
      "E0000 00:00:1742207550.422004   31762 cuda_blas.cc:1407] Unable to register cuBLAS factory: Attempting to register factory for plugin cuBLAS when one has already been registered\n",
      "W0000 00:00:1742207550.438547   31762 computation_placer.cc:177] computation placer already registered. Please check linkage and avoid linking the same target more than once.\n",
      "W0000 00:00:1742207550.438568   31762 computation_placer.cc:177] computation placer already registered. Please check linkage and avoid linking the same target more than once.\n",
      "W0000 00:00:1742207550.438570   31762 computation_placer.cc:177] computation placer already registered. Please check linkage and avoid linking the same target more than once.\n",
      "W0000 00:00:1742207550.438571   31762 computation_placer.cc:177] computation placer already registered. Please check linkage and avoid linking the same target more than once.\n"
     ]
    },
    {
     "name": "stdout",
     "output_type": "stream",
     "text": [
      "Initial loss: 2.3123507\n"
     ]
    },
    {
     "name": "stderr",
     "output_type": "stream",
     "text": [
      "Epoch 1/5: 100%|██████████| 118/118 [00:13<00:00,  8.63it/s]\n"
     ]
    },
    {
     "name": "stdout",
     "output_type": "stream",
     "text": [
      "Epoch 1: Average Loss = 0.6157775521278381\n"
     ]
    },
    {
     "name": "stderr",
     "output_type": "stream",
     "text": [
      "Epoch 2/5: 100%|██████████| 118/118 [00:08<00:00, 13.30it/s]\n"
     ]
    },
    {
     "name": "stdout",
     "output_type": "stream",
     "text": [
      "Epoch 2: Average Loss = 0.22774720191955566\n"
     ]
    },
    {
     "name": "stderr",
     "output_type": "stream",
     "text": [
      "Epoch 3/5: 100%|██████████| 118/118 [00:08<00:00, 13.47it/s]\n"
     ]
    },
    {
     "name": "stdout",
     "output_type": "stream",
     "text": [
      "Epoch 3: Average Loss = 0.17137962579727173\n"
     ]
    },
    {
     "name": "stderr",
     "output_type": "stream",
     "text": [
      "Epoch 4/5: 100%|██████████| 118/118 [00:08<00:00, 13.63it/s]\n"
     ]
    },
    {
     "name": "stdout",
     "output_type": "stream",
     "text": [
      "Epoch 4: Average Loss = 0.13709883391857147\n"
     ]
    },
    {
     "name": "stderr",
     "output_type": "stream",
     "text": [
      "Epoch 5/5: 100%|██████████| 118/118 [00:08<00:00, 13.61it/s]\n"
     ]
    },
    {
     "name": "stdout",
     "output_type": "stream",
     "text": [
      "Epoch 5: Average Loss = 0.11209221184253693\n",
      "Training completed. Final model state:\n",
      "0.11209221\n",
      "Baysian optimization start.\n",
      "|   iter    |  target   | hidden... | hidden... | learni... |\n",
      "-------------------------------------------------------------\n",
      "Initial loss: 2.3137894\n"
     ]
    },
    {
     "name": "stderr",
     "output_type": "stream",
     "text": [
      "Epoch 1/1: 100%|██████████| 118/118 [00:12<00:00,  9.13it/s]\n"
     ]
    },
    {
     "name": "stdout",
     "output_type": "stream",
     "text": [
      "Epoch 1: Average Loss = 4.1450910568237305\n",
      "Validation loss (lr=0.0731996621871987, hidden1=211, hidden2=488): 4.1450910568237305\n",
      "| \u001b[39m1        \u001b[39m | \u001b[39m-4.145   \u001b[39m | \u001b[39m211.8    \u001b[39m | \u001b[39m488.3    \u001b[39m | \u001b[39m0.0732   \u001b[39m |\n",
      "Initial loss: 2.3321671\n"
     ]
    },
    {
     "name": "stderr",
     "output_type": "stream",
     "text": [
      "Epoch 1/1: 100%|██████████| 118/118 [00:12<00:00,  9.22it/s]\n"
     ]
    },
    {
     "name": "stdout",
     "output_type": "stream",
     "text": [
      "Epoch 1: Average Loss = 0.32410916686058044\n",
      "Validation loss (lr=0.015600296039099928, hidden1=319, hidden2=106): 0.32410916686058044\n",
      "| \u001b[35m2        \u001b[39m | \u001b[35m-0.3241  \u001b[39m | \u001b[35m319.4    \u001b[39m | \u001b[35m106.9    \u001b[39m | \u001b[35m0.0156   \u001b[39m |\n",
      "Initial loss: 2.3330827\n"
     ]
    },
    {
     "name": "stderr",
     "output_type": "stream",
     "text": [
      "Epoch 1/1: 100%|██████████| 118/118 [00:12<00:00,  9.30it/s]\n"
     ]
    },
    {
     "name": "stdout",
     "output_type": "stream",
     "text": [
      "Epoch 1: Average Loss = 1.6977014541625977\n",
      "Validation loss (lr=0.060111900059309144, hidden1=59, hidden2=447): 1.6977014541625977\n",
      "| \u001b[39m3        \u001b[39m | \u001b[39m-1.698   \u001b[39m | \u001b[39m59.88    \u001b[39m | \u001b[39m447.8    \u001b[39m | \u001b[39m0.06011  \u001b[39m |\n",
      "Initial loss: 2.3163192\n"
     ]
    },
    {
     "name": "stderr",
     "output_type": "stream",
     "text": [
      "Epoch 1/1: 100%|██████████| 118/118 [00:12<00:00,  9.28it/s]\n"
     ]
    },
    {
     "name": "stdout",
     "output_type": "stream",
     "text": [
      "Epoch 1: Average Loss = 2.763275384902954\n",
      "Validation loss (lr=0.09699101530634728, hidden1=371, hidden2=41): 2.763275384902954\n",
      "| \u001b[39m4        \u001b[39m | \u001b[39m-2.763   \u001b[39m | \u001b[39m371.9    \u001b[39m | \u001b[39m41.88    \u001b[39m | \u001b[39m0.09699  \u001b[39m |\n",
      "Initial loss: 2.3234353\n"
     ]
    },
    {
     "name": "stderr",
     "output_type": "stream",
     "text": [
      "Epoch 1/1: 100%|██████████| 118/118 [00:13<00:00,  9.02it/s]\n"
     ]
    },
    {
     "name": "stdout",
     "output_type": "stream",
     "text": [
      "Epoch 1: Average Loss = 0.41462641954421997\n",
      "Validation loss (lr=0.018183314895742857, hidden1=431, hidden2=133): 0.41462641954421997\n",
      "| \u001b[39m5        \u001b[39m | \u001b[39m-0.4146  \u001b[39m | \u001b[39m431.6    \u001b[39m | \u001b[39m133.9    \u001b[39m | \u001b[39m0.01818  \u001b[39m |\n",
      "Initial loss: 2.2998137\n"
     ]
    },
    {
     "name": "stderr",
     "output_type": "stream",
     "text": [
      "Epoch 1/1: 100%|██████████| 118/118 [00:12<00:00,  9.15it/s]\n"
     ]
    },
    {
     "name": "stdout",
     "output_type": "stream",
     "text": [
      "Epoch 1: Average Loss = 0.4229424297809601\n",
      "Validation loss (lr=0.02338204949647332, hidden1=321, hidden2=110): 0.4229424297809601\n",
      "| \u001b[39m6        \u001b[39m | \u001b[39m-0.4229  \u001b[39m | \u001b[39m321.2    \u001b[39m | \u001b[39m110.2    \u001b[39m | \u001b[39m0.02338  \u001b[39m |\n",
      "Initial loss: 2.2994008\n"
     ]
    },
    {
     "name": "stderr",
     "output_type": "stream",
     "text": [
      "Epoch 1/1: 100%|██████████| 118/118 [00:12<00:00,  9.26it/s]\n"
     ]
    },
    {
     "name": "stdout",
     "output_type": "stream",
     "text": [
      "Epoch 1: Average Loss = 2.204457998275757\n",
      "Validation loss (lr=0.0819413272014111, hidden1=263, hidden2=97): 2.204457998275757\n",
      "| \u001b[39m7        \u001b[39m | \u001b[39m-2.204   \u001b[39m | \u001b[39m264.0    \u001b[39m | \u001b[39m97.49    \u001b[39m | \u001b[39m0.08194  \u001b[39m |\n",
      "Initial loss: 2.3180013\n"
     ]
    },
    {
     "name": "stderr",
     "output_type": "stream",
     "text": [
      "Epoch 1/1: 100%|██████████| 118/118 [00:12<00:00,  9.16it/s]\n"
     ]
    },
    {
     "name": "stdout",
     "output_type": "stream",
     "text": [
      "Epoch 1: Average Loss = 3.1419577598571777\n",
      "Validation loss (lr=0.07316488328345236, hidden1=390, hidden2=148): 3.1419577598571777\n",
      "| \u001b[39m8        \u001b[39m | \u001b[39m-3.142   \u001b[39m | \u001b[39m390.1    \u001b[39m | \u001b[39m148.9    \u001b[39m | \u001b[39m0.07316  \u001b[39m |\n",
      "Initial loss: 2.3086827\n"
     ]
    },
    {
     "name": "stderr",
     "output_type": "stream",
     "text": [
      "Epoch 1/1: 100%|██████████| 118/118 [00:12<00:00,  9.24it/s]\n"
     ]
    },
    {
     "name": "stdout",
     "output_type": "stream",
     "text": [
      "Epoch 1: Average Loss = 1.671608567237854\n",
      "Validation loss (lr=0.06038575609888851, hidden1=458, hidden2=125): 1.671608567237854\n",
      "| \u001b[39m9        \u001b[39m | \u001b[39m-1.672   \u001b[39m | \u001b[39m458.7    \u001b[39m | \u001b[39m125.4    \u001b[39m | \u001b[39m0.06039  \u001b[39m |\n",
      "Initial loss: 2.3071284\n"
     ]
    },
    {
     "name": "stderr",
     "output_type": "stream",
     "text": [
      "Epoch 1/1: 100%|██████████| 118/118 [00:13<00:00,  8.87it/s]\n"
     ]
    },
    {
     "name": "stdout",
     "output_type": "stream",
     "text": [
      "Epoch 1: Average Loss = 1.256033182144165\n",
      "Validation loss (lr=0.05457824046109374, hidden1=332, hidden2=85): 1.256033182144165\n",
      "| \u001b[39m10       \u001b[39m | \u001b[39m-1.256   \u001b[39m | \u001b[39m332.6    \u001b[39m | \u001b[39m85.86    \u001b[39m | \u001b[39m0.05458  \u001b[39m |\n",
      "Initial loss: 2.2946875\n"
     ]
    },
    {
     "name": "stderr",
     "output_type": "stream",
     "text": [
      "Epoch 1/1: 100%|██████████| 118/118 [00:12<00:00,  9.10it/s]\n"
     ]
    },
    {
     "name": "stdout",
     "output_type": "stream",
     "text": [
      "Epoch 1: Average Loss = 0.2743774652481079\n",
      "Validation loss (lr=0.009097740713809916, hidden1=424, hidden2=109): 0.2743774652481079\n",
      "| \u001b[35m11       \u001b[39m | \u001b[35m-0.2744  \u001b[39m | \u001b[35m424.7    \u001b[39m | \u001b[35m109.4    \u001b[39m | \u001b[35m0.009098 \u001b[39m |\n",
      "Initial loss: 2.317873\n"
     ]
    },
    {
     "name": "stderr",
     "output_type": "stream",
     "text": [
      "Epoch 1/1: 100%|██████████| 118/118 [00:13<00:00,  9.06it/s]\n"
     ]
    },
    {
     "name": "stdout",
     "output_type": "stream",
     "text": [
      "Epoch 1: Average Loss = 0.7297729849815369\n",
      "Validation loss (lr=0.04121235003120042, hidden1=439, hidden2=76): 0.7297729849815369\n",
      "| \u001b[39m12       \u001b[39m | \u001b[39m-0.7298  \u001b[39m | \u001b[39m439.3    \u001b[39m | \u001b[39m76.26    \u001b[39m | \u001b[39m0.04121  \u001b[39m |\n",
      "Initial loss: 2.3128498\n"
     ]
    },
    {
     "name": "stderr",
     "output_type": "stream",
     "text": [
      "Epoch 1/1: 100%|██████████| 118/118 [00:12<00:00,  9.19it/s]\n"
     ]
    },
    {
     "name": "stdout",
     "output_type": "stream",
     "text": [
      "Epoch 1: Average Loss = 0.946134090423584\n",
      "Validation loss (lr=0.048145650638185815, hidden1=472, hidden2=48): 0.946134090423584\n",
      "| \u001b[39m13       \u001b[39m | \u001b[39m-0.9461  \u001b[39m | \u001b[39m472.7    \u001b[39m | \u001b[39m48.19    \u001b[39m | \u001b[39m0.04815  \u001b[39m |\n",
      "Initial loss: 2.2876186\n"
     ]
    },
    {
     "name": "stderr",
     "output_type": "stream",
     "text": [
      "Epoch 1/1: 100%|██████████| 118/118 [00:13<00:00,  9.05it/s]\n"
     ]
    },
    {
     "name": "stdout",
     "output_type": "stream",
     "text": [
      "Epoch 1: Average Loss = 8.035195350646973\n",
      "Validation loss (lr=0.09794123766630679, hidden1=298, hidden2=140): 8.035195350646973\n",
      "| \u001b[39m14       \u001b[39m | \u001b[39m-8.035   \u001b[39m | \u001b[39m298.0    \u001b[39m | \u001b[39m140.1    \u001b[39m | \u001b[39m0.09794  \u001b[39m |\n",
      "Initial loss: 2.317506\n"
     ]
    },
    {
     "name": "stderr",
     "output_type": "stream",
     "text": [
      "Epoch 1/1: 100%|██████████| 118/118 [00:13<00:00,  8.93it/s]\n"
     ]
    },
    {
     "name": "stdout",
     "output_type": "stream",
     "text": [
      "Epoch 1: Average Loss = 0.3839266002178192\n",
      "Validation loss (lr=0.0017772023543374306, hidden1=407, hidden2=82): 0.3839266002178192\n",
      "| \u001b[39m15       \u001b[39m | \u001b[39m-0.3839  \u001b[39m | \u001b[39m407.0    \u001b[39m | \u001b[39m82.83    \u001b[39m | \u001b[39m0.001777 \u001b[39m |\n",
      "Initial loss: 2.2964315\n"
     ]
    },
    {
     "name": "stderr",
     "output_type": "stream",
     "text": [
      "Epoch 1/1: 100%|██████████| 118/118 [00:11<00:00,  9.96it/s]\n"
     ]
    },
    {
     "name": "stdout",
     "output_type": "stream",
     "text": [
      "Epoch 1: Average Loss = 0.36535024642944336\n",
      "Validation loss (lr=0.0025030819425186997, hidden1=429, hidden2=41): 0.36535024642944336\n",
      "| \u001b[39m16       \u001b[39m | \u001b[39m-0.3654  \u001b[39m | \u001b[39m429.9    \u001b[39m | \u001b[39m41.29    \u001b[39m | \u001b[39m0.002503 \u001b[39m |\n",
      "Initial loss: 2.326091\n"
     ]
    },
    {
     "name": "stderr",
     "output_type": "stream",
     "text": [
      "Epoch 1/1: 100%|██████████| 118/118 [00:13<00:00,  9.02it/s]\n"
     ]
    },
    {
     "name": "stdout",
     "output_type": "stream",
     "text": [
      "Epoch 1: Average Loss = 0.5480305552482605\n",
      "Validation loss (lr=0.0005747817017286947, hidden1=446, hidden2=173): 0.5480305552482605\n",
      "| \u001b[39m17       \u001b[39m | \u001b[39m-0.548   \u001b[39m | \u001b[39m446.1    \u001b[39m | \u001b[39m173.4    \u001b[39m | \u001b[39m0.0005748\u001b[39m |\n",
      "Initial loss: 2.3222997\n"
     ]
    },
    {
     "name": "stderr",
     "output_type": "stream",
     "text": [
      "Epoch 1/1: 100%|██████████| 118/118 [00:13<00:00,  9.01it/s]\n"
     ]
    },
    {
     "name": "stdout",
     "output_type": "stream",
     "text": [
      "Epoch 1: Average Loss = 0.2983846366405487\n",
      "Validation loss (lr=0.0027493900223528466, hidden1=473, hidden2=200): 0.2983846366405487\n",
      "| \u001b[39m18       \u001b[39m | \u001b[39m-0.2984  \u001b[39m | \u001b[39m474.0    \u001b[39m | \u001b[39m200.6    \u001b[39m | \u001b[39m0.002749 \u001b[39m |\n",
      "Initial loss: 2.3144865\n"
     ]
    },
    {
     "name": "stderr",
     "output_type": "stream",
     "text": [
      "Epoch 1/1: 100%|██████████| 118/118 [00:13<00:00,  8.95it/s]\n"
     ]
    },
    {
     "name": "stdout",
     "output_type": "stream",
     "text": [
      "Epoch 1: Average Loss = 0.2725956439971924\n",
      "Validation loss (lr=0.008772019387547438, hidden1=440, hidden2=213): 0.2725956439971924\n",
      "| \u001b[35m19       \u001b[39m | \u001b[35m-0.2726  \u001b[39m | \u001b[35m440.9    \u001b[39m | \u001b[35m213.5    \u001b[39m | \u001b[35m0.008772 \u001b[39m |\n",
      "Initial loss: 2.3307123\n"
     ]
    },
    {
     "name": "stderr",
     "output_type": "stream",
     "text": [
      "Epoch 1/1: 100%|██████████| 118/118 [00:13<00:00,  9.05it/s]\n"
     ]
    },
    {
     "name": "stdout",
     "output_type": "stream",
     "text": [
      "Epoch 1: Average Loss = 7.100915908813477\n",
      "Validation loss (lr=0.09300431511243798, hidden1=471, hidden2=240): 7.100915908813477\n",
      "| \u001b[39m20       \u001b[39m | \u001b[39m-7.101   \u001b[39m | \u001b[39m471.3    \u001b[39m | \u001b[39m240.8    \u001b[39m | \u001b[39m0.093    \u001b[39m |\n",
      "Initial loss: 2.311585\n"
     ]
    },
    {
     "name": "stderr",
     "output_type": "stream",
     "text": [
      "Epoch 1/1: 100%|██████████| 118/118 [00:12<00:00,  9.09it/s]\n"
     ]
    },
    {
     "name": "stdout",
     "output_type": "stream",
     "text": [
      "Epoch 1: Average Loss = 0.2708035409450531\n",
      "Validation loss (lr=0.008377656906364616, hidden1=485, hidden2=174): 0.2708035409450531\n",
      "| \u001b[35m21       \u001b[39m | \u001b[35m-0.2708  \u001b[39m | \u001b[35m485.1    \u001b[39m | \u001b[35m174.1    \u001b[39m | \u001b[35m0.008378 \u001b[39m |\n",
      "Initial loss: 2.3220866\n"
     ]
    },
    {
     "name": "stderr",
     "output_type": "stream",
     "text": [
      "Epoch 1/1: 100%|██████████| 118/118 [00:13<00:00,  8.92it/s]\n"
     ]
    },
    {
     "name": "stdout",
     "output_type": "stream",
     "text": [
      "Epoch 1: Average Loss = 0.6298381090164185\n",
      "Validation loss (lr=0.026074908072006773, hidden1=415, hidden2=198): 0.6298381090164185\n",
      "| \u001b[39m22       \u001b[39m | \u001b[39m-0.6298  \u001b[39m | \u001b[39m415.8    \u001b[39m | \u001b[39m198.6    \u001b[39m | \u001b[39m0.02607  \u001b[39m |\n",
      "Initial loss: 2.3088174\n"
     ]
    },
    {
     "name": "stderr",
     "output_type": "stream",
     "text": [
      "Epoch 1/1: 100%|██████████| 118/118 [00:14<00:00,  8.34it/s]\n"
     ]
    },
    {
     "name": "stdout",
     "output_type": "stream",
     "text": [
      "Epoch 1: Average Loss = 0.27910372614860535\n",
      "Validation loss (lr=0.004164792778163996, hidden1=406, hidden2=234): 0.27910372614860535\n",
      "| \u001b[39m23       \u001b[39m | \u001b[39m-0.2791  \u001b[39m | \u001b[39m406.7    \u001b[39m | \u001b[39m234.1    \u001b[39m | \u001b[39m0.004165 \u001b[39m |\n",
      "Initial loss: 2.324307\n"
     ]
    },
    {
     "name": "stderr",
     "output_type": "stream",
     "text": [
      "Epoch 1/1: 100%|██████████| 118/118 [00:13<00:00,  8.72it/s]\n"
     ]
    },
    {
     "name": "stdout",
     "output_type": "stream",
     "text": [
      "Epoch 1: Average Loss = 1.4212507009506226\n",
      "Validation loss (lr=0.050229294385521, hidden1=370, hidden2=233): 1.4212507009506226\n",
      "| \u001b[39m24       \u001b[39m | \u001b[39m-1.421   \u001b[39m | \u001b[39m370.3    \u001b[39m | \u001b[39m233.8    \u001b[39m | \u001b[39m0.05023  \u001b[39m |\n",
      "Initial loss: 2.30154\n"
     ]
    },
    {
     "name": "stderr",
     "output_type": "stream",
     "text": [
      "Epoch 1/1: 100%|██████████| 118/118 [00:13<00:00,  8.73it/s]\n"
     ]
    },
    {
     "name": "stdout",
     "output_type": "stream",
     "text": [
      "Epoch 1: Average Loss = 0.3082907497882843\n",
      "Validation loss (lr=0.002389326179179107, hidden1=510, hidden2=191): 0.3082907497882843\n",
      "| \u001b[39m25       \u001b[39m | \u001b[39m-0.3083  \u001b[39m | \u001b[39m510.5    \u001b[39m | \u001b[39m191.8    \u001b[39m | \u001b[39m0.002389 \u001b[39m |\n",
      "Initial loss: 2.3087301\n"
     ]
    },
    {
     "name": "stderr",
     "output_type": "stream",
     "text": [
      "Epoch 1/1: 100%|██████████| 118/118 [00:16<00:00,  7.12it/s]\n"
     ]
    },
    {
     "name": "stdout",
     "output_type": "stream",
     "text": [
      "Epoch 1: Average Loss = 6.22697639465332\n",
      "Validation loss (lr=0.09692174218370951, hidden1=509, hidden2=151): 6.22697639465332\n",
      "| \u001b[39m26       \u001b[39m | \u001b[39m-6.227   \u001b[39m | \u001b[39m509.7    \u001b[39m | \u001b[39m151.6    \u001b[39m | \u001b[39m0.09692  \u001b[39m |\n",
      "Initial loss: 2.3307073\n"
     ]
    },
    {
     "name": "stderr",
     "output_type": "stream",
     "text": [
      "Epoch 1/1: 100%|██████████| 118/118 [00:13<00:00,  8.56it/s]\n"
     ]
    },
    {
     "name": "stdout",
     "output_type": "stream",
     "text": [
      "Epoch 1: Average Loss = 0.4607982635498047\n",
      "Validation loss (lr=0.01991350785945427, hidden1=399, hidden2=268): 0.4607982635498047\n",
      "| \u001b[39m27       \u001b[39m | \u001b[39m-0.4608  \u001b[39m | \u001b[39m399.3    \u001b[39m | \u001b[39m268.3    \u001b[39m | \u001b[39m0.01991  \u001b[39m |\n",
      "Initial loss: 2.3312104\n"
     ]
    },
    {
     "name": "stderr",
     "output_type": "stream",
     "text": [
      "Epoch 1/1: 100%|██████████| 118/118 [00:14<00:00,  8.14it/s]\n"
     ]
    },
    {
     "name": "stdout",
     "output_type": "stream",
     "text": [
      "Epoch 1: Average Loss = 4.115870475769043\n",
      "Validation loss (lr=0.06641698631276291, hidden1=371, hidden2=290): 4.115870475769043\n",
      "| \u001b[39m28       \u001b[39m | \u001b[39m-4.116   \u001b[39m | \u001b[39m371.3    \u001b[39m | \u001b[39m290.7    \u001b[39m | \u001b[39m0.06642  \u001b[39m |\n",
      "Initial loss: 2.2948873\n"
     ]
    },
    {
     "name": "stderr",
     "output_type": "stream",
     "text": [
      "Epoch 1/1: 100%|██████████| 118/118 [00:14<00:00,  8.38it/s]\n"
     ]
    },
    {
     "name": "stdout",
     "output_type": "stream",
     "text": [
      "Epoch 1: Average Loss = 1.4448083639144897\n",
      "Validation loss (lr=0.050483709150074274, hidden1=376, hidden2=100): 1.4448083639144897\n",
      "| \u001b[39m29       \u001b[39m | \u001b[39m-1.445   \u001b[39m | \u001b[39m376.1    \u001b[39m | \u001b[39m100.7    \u001b[39m | \u001b[39m0.05048  \u001b[39m |\n",
      "Initial loss: 2.3489451\n"
     ]
    },
    {
     "name": "stderr",
     "output_type": "stream",
     "text": [
      "Epoch 1/1: 100%|██████████| 118/118 [00:13<00:00,  8.77it/s]\n"
     ]
    },
    {
     "name": "stdout",
     "output_type": "stream",
     "text": [
      "Epoch 1: Average Loss = 1.0234999656677246\n",
      "Validation loss (lr=0.03909036270240408, hidden1=421, hidden2=258): 1.0234999656677246\n",
      "| \u001b[39m30       \u001b[39m | \u001b[39m-1.023   \u001b[39m | \u001b[39m421.4    \u001b[39m | \u001b[39m258.6    \u001b[39m | \u001b[39m0.03909  \u001b[39m |\n",
      "=============================================================\n",
      "Best parameters found: {'target': np.float64(-0.2708035409450531), 'params': {'hidden_size_1': np.float64(485.14852190119484), 'hidden_size_2': np.float64(174.1198464063595), 'learning_rate': np.float64(0.008377656906364616)}}\n",
      "Initial loss: 2.311585\n"
     ]
    },
    {
     "name": "stderr",
     "output_type": "stream",
     "text": [
      "Epoch 1/5: 100%|██████████| 118/118 [00:09<00:00, 13.07it/s]\n"
     ]
    },
    {
     "name": "stdout",
     "output_type": "stream",
     "text": [
      "Epoch 1: Average Loss = 0.2708035409450531\n"
     ]
    },
    {
     "name": "stderr",
     "output_type": "stream",
     "text": [
      "Epoch 2/5: 100%|██████████| 118/118 [00:10<00:00, 11.65it/s]\n"
     ]
    },
    {
     "name": "stdout",
     "output_type": "stream",
     "text": [
      "Epoch 2: Average Loss = 0.08949209004640579\n"
     ]
    },
    {
     "name": "stderr",
     "output_type": "stream",
     "text": [
      "Epoch 3/5: 100%|██████████| 118/118 [00:10<00:00, 10.79it/s]\n"
     ]
    },
    {
     "name": "stdout",
     "output_type": "stream",
     "text": [
      "Epoch 3: Average Loss = 0.06113035976886749\n"
     ]
    },
    {
     "name": "stderr",
     "output_type": "stream",
     "text": [
      "Epoch 4/5: 100%|██████████| 118/118 [00:09<00:00, 12.44it/s]\n"
     ]
    },
    {
     "name": "stdout",
     "output_type": "stream",
     "text": [
      "Epoch 4: Average Loss = 0.05003752186894417\n"
     ]
    },
    {
     "name": "stderr",
     "output_type": "stream",
     "text": [
      "Epoch 5/5: 100%|██████████| 118/118 [00:10<00:00, 11.61it/s]"
     ]
    },
    {
     "name": "stdout",
     "output_type": "stream",
     "text": [
      "Epoch 5: Average Loss = 0.046506889164447784\n",
      "Final evaluation with best parameters (5 epochs):\n",
      "Final loss: 0.04650689\n"
     ]
    },
    {
     "name": "stderr",
     "output_type": "stream",
     "text": [
      "\n"
     ]
    }
   ],
   "source": [
    "import jax\n",
    "import jax.numpy as jnp\n",
    "import optax\n",
    "import flax.linen as nn\n",
    "from flax.training import train_state\n",
    "from typing import Tuple, List\n",
    "from optax import ScalarOrSchedule\n",
    "from syuron import dataset\n",
    "from syuron import mlp\n",
    "\n",
    "\n",
    "class MLP(nn.Module):\n",
    "    hidden_sizes: List[int]\n",
    "    output_size: int\n",
    "\n",
    "    @nn.compact\n",
    "    def __call__(self, x):\n",
    "        for h in self.hidden_sizes:\n",
    "            x = nn.Dense(features=h)(x)\n",
    "            x = nn.relu(x)\n",
    "        x = nn.Dense(features=self.output_size)(x)\n",
    "        return x\n",
    "\n",
    "\n",
    "def use_state(learning_rate: ScalarOrSchedule, input_size: int, hidden_sizes: List[int], output_size: int) -> mlp.ModelState:\n",
    "    \"\"\"\n",
    "    MLPモデルを生成し、初期パラメータをダミー入力から初期化。\n",
    "    Adamオプティマイザを用いてTrainState（ModelState）を返す。\n",
    "    \"\"\"\n",
    "    model = MLP(hidden_sizes=hidden_sizes, output_size=output_size)\n",
    "    rng = jax.random.PRNGKey(0)\n",
    "    dummy_input = jnp.ones([1, input_size])\n",
    "    params = model.init(rng, dummy_input)\n",
    "    tx = optax.adam(learning_rate)\n",
    "    state = train_state.TrainState.create(\n",
    "        apply_fn=model.apply, params=params, tx=tx)\n",
    "    return state\n",
    "\n",
    "\n",
    "def loss_fn(params: mlp.ModelParams, batch: dataset.Batch, apply_fn: mlp.ApplyFn) -> mlp.Loss:\n",
    "    \"\"\"\n",
    "    クロスエントロピー損失を計算する。\n",
    "    モデルの出力(logits)に対してlog_softmaxを適用し、one-hotラベルとのクロスエントロピーの平均を返す。\n",
    "    \"\"\"\n",
    "    logits = apply_fn(params, batch.inputs)\n",
    "    log_probs = jax.nn.log_softmax(logits)\n",
    "    loss = -jnp.mean(jnp.sum(batch.outputs * log_probs, axis=-1))\n",
    "    return loss  # type: ignore\n",
    "\n",
    "\n",
    "def train_step(state: mlp.ModelState, batch: dataset.Batch) -> Tuple[mlp.ModelState, mlp.Loss]:\n",
    "    \"\"\"\n",
    "    1バッチ分の学習ステップを実施する関数。\n",
    "    損失とその勾配をjax.value_and_gradで計算し、apply_gradientsでパラメータ更新を行う。\n",
    "    \"\"\"\n",
    "    loss, grads = jax.value_and_grad(loss_fn)(\n",
    "        state.params, batch, state.apply_fn)\n",
    "    new_state = state.apply_gradients(grads=grads)\n",
    "    return new_state, loss\n",
    "\n",
    "\n",
    "final_state, final_loss = mlp.train_and_eval(\n",
    "    dataset.load_mnist,\n",
    "    use_state,\n",
    "    train_step,\n",
    "    loss_fn,\n",
    "    mlp.OptimizableParams(learning_rate=1e-3, hidden_sizes=[128, 64]),\n",
    "    5\n",
    ")\n",
    "\n",
    "print(\"Training completed. Final model loss:\")\n",
    "print(final_loss)\n",
    "\n",
    "print(\"Baysian optimization start.\")\n",
    "final_state, final_loss = mlp.bayesian_optim(\n",
    "    dataset.load_mnist, use_state, train_step, loss_fn)"
   ]
  }
 ],
 "metadata": {
  "kernelspec": {
   "display_name": ".venv",
   "language": "python",
   "name": "python3"
  },
  "language_info": {
   "codemirror_mode": {
    "name": "ipython",
    "version": 3
   },
   "file_extension": ".py",
   "mimetype": "text/x-python",
   "name": "python",
   "nbconvert_exporter": "python",
   "pygments_lexer": "ipython3",
   "version": "3.12.7"
  }
 },
 "nbformat": 4,
 "nbformat_minor": 2
}
