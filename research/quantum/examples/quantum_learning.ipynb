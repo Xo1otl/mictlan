{
 "cells": [
  {
   "cell_type": "code",
   "execution_count": 1,
   "id": "f5591489",
   "metadata": {},
   "outputs": [
    {
     "name": "stdout",
     "output_type": "stream",
     "text": [
      "Qiskit 量子ビットインデックス: q0(e), q1(d), q2(c), q3(b), q4(a)\n",
      "制御ビット (a,b,c): q4, q3, q2\n",
      "ターゲットビット (d,e): q1, q0\n",
      "制御条件 (abc=110): Qiskit ctrl_state='011' (q2,q3,q4 の順)\n",
      "\n",
      "--- 初期状態: |11001> ---\n",
      "生成された回路:\n",
      "     ┌───┐ ░    \n",
      "q_0: ┤ X ├─░──X─\n",
      "     └───┘ ░  │ \n",
      "q_1: ──────░──X─\n",
      "           ░  │ \n",
      "q_2: ──────░──o─\n",
      "     ┌───┐ ░  │ \n",
      "q_3: ┤ X ├─░──■─\n",
      "     ├───┤ ░  │ \n",
      "q_4: ┤ X ├─░──■─\n",
      "     └───┘ ░    \n",
      "初期状態: |11001>\n",
      "最終状態 (Qiskit order q0..q4): |11010>\n",
      "最終状態 (abcde order q4..q0): |11010>\n",
      "\n",
      "--- 初期状態: |11010> ---\n",
      "生成された回路:\n",
      "           ░    \n",
      "q_0: ──────░──X─\n",
      "     ┌───┐ ░  │ \n",
      "q_1: ┤ X ├─░──X─\n",
      "     └───┘ ░  │ \n",
      "q_2: ──────░──o─\n",
      "     ┌───┐ ░  │ \n",
      "q_3: ┤ X ├─░──■─\n",
      "     ├───┤ ░  │ \n",
      "q_4: ┤ X ├─░──■─\n",
      "     └───┘ ░    \n",
      "初期状態: |11010>\n",
      "最終状態 (Qiskit order q0..q4): |11001>\n",
      "最終状態 (abcde order q4..q0): |11001>\n",
      "\n",
      "--- 初期状態: |01001> ---\n",
      "生成された回路:\n",
      "     ┌───┐ ░    \n",
      "q_0: ┤ X ├─░──X─\n",
      "     └───┘ ░  │ \n",
      "q_1: ──────░──X─\n",
      "           ░  │ \n",
      "q_2: ──────░──o─\n",
      "     ┌───┐ ░  │ \n",
      "q_3: ┤ X ├─░──■─\n",
      "     └───┘ ░  │ \n",
      "q_4: ──────░──■─\n",
      "           ░    \n",
      "初期状態: |01001>\n",
      "最終状態 (Qiskit order q0..q4): |01001>\n",
      "最終状態 (abcde order q4..q0): |01001>\n",
      "\n",
      "\n",
      "--- 結果まとめ ---\n",
      "初期状態: |11001>\n",
      "  期待される最終状態: |11010>\n",
      "  シミュレーション結果: |11010>\n",
      "  \u001b[92m-> 結果は期待通りです。\u001b[0m\n",
      "--------------------\n",
      "初期状態: |11010>\n",
      "  期待される最終状態: |11001>\n",
      "  シミュレーション結果: |11001>\n",
      "  \u001b[92m-> 結果は期待通りです。\u001b[0m\n",
      "--------------------\n",
      "初期状態: |01001>\n",
      "  期待される最終状態: |01001>\n",
      "  シミュレーション結果: |01001>\n",
      "  \u001b[92m-> 結果は期待通りです。\u001b[0m\n",
      "--------------------\n"
     ]
    }
   ],
   "source": [
    "import numpy as np\n",
    "from qiskit import QuantumCircuit, transpile\n",
    "# BasicSimulator は非推奨になったため、Aer のシミュレータを使用します。\n",
    "# Aer がインストールされていない場合は、pip install qiskit-aer でインストールしてください。\n",
    "try:\n",
    "    from qiskit_aer import AerSimulator\n",
    "except ImportError:\n",
    "    print(\"qiskit-aer が見つかりません。BasicSimulatorを使用します。\")\n",
    "    print(\"pip install qiskit-aer を実行してインストールすることをお勧めします。\")\n",
    "    # BasicSimulatorは状態ベクトルシミュレーションには非推奨ですが、代替として使えます\n",
    "    from qiskit.providers.basic_provider import BasicSimulator\n",
    "    AerSimulator = None  # AerSimulator がないことを示すフラグ\n",
    "\n",
    "from qiskit.circuit.library import SwapGate\n",
    "from qiskit.quantum_info import Statevector\n",
    "\n",
    "# --- 設定 ---\n",
    "# テストする初期状態のリスト (|abcde> の形式)\n",
    "initial_states_str = [\n",
    "    \"11001\",  # a=1, b=1, c=0, d=0, e=1 -> SWAP -> 11010\n",
    "    \"11010\",  # a=1, b=1, c=0, d=1, e=0 -> SWAP -> 11001\n",
    "    \"01001\"  # a=0, b=1, c=0 なので条件を満たさない -> 変化なし -> 01001\n",
    "]\n",
    "\n",
    "# 量子ビット数\n",
    "num_qubits = 5\n",
    "\n",
    "# Qiskitの量子ビットインデックス: q0, q1, q2, q3, q4\n",
    "# 状態 |abcde> との対応:\n",
    "# a -> q4\n",
    "# b -> q3\n",
    "# c -> q2\n",
    "# d -> q1\n",
    "# e -> q0\n",
    "qubit_map = {'a': 4, 'b': 3, 'c': 2, 'd': 1, 'e': 0}\n",
    "\n",
    "# 制御ビットのインデックスリスト (a, b, c に対応)\n",
    "control_qubits = [qubit_map['a'], qubit_map['b'],\n",
    "                  qubit_map['c']]  # [q4, q3, q2]\n",
    "# ターゲットビットのインデックスリスト (d, e に対応)\n",
    "target_qubits = [qubit_map['d'], qubit_map['e']]  # [q1, q0]\n",
    "\n",
    "# 制御条件: a=1, b=1, c=0\n",
    "# Qiskitの control メソッドでは、ctrl_state は制御ビットリストの順に対応するビット列を\n",
    "# *リトルエンディアン* (リストの最後の要素が最上位ビット)で指定します。\n",
    "# 制御ビットリストが [q4, q3, q2] なので、状態 (a=1, b=1, c=0) は (q4=1, q3=1, q2=0) に対応します。\n",
    "# ctrl_state は '011' となります (q2=0, q3=1, q4=1)。\n",
    "control_state_str = '011'  # 制御ビット [q4, q3, q2] が (1, 1, 0) を表す\n",
    "\n",
    "# 多重制御SWAPゲートを作成\n",
    "# SwapGate(q1, q0) を q4, q3, q2 で制御する\n",
    "# SwapGate() は qiskitでは通常、指定された2つの量子ビットを入れ替える\n",
    "# ここでは target_qubits = [q1, q0] に作用させたい\n",
    "# SwapGate().control(num_ctrl_qubits, ctrl_state)\n",
    "# num_ctrl_qubits=3, ctrl_state='011'\n",
    "controlled_swap_gate = SwapGate(label=f\"C3-SWAP({control_state_str})\").control(\n",
    "    num_ctrl_qubits=len(control_qubits),\n",
    "    ctrl_state=control_state_str\n",
    ")\n",
    "\n",
    "print(f\"Qiskit 量子ビットインデックス: q0(e), q1(d), q2(c), q3(b), q4(a)\")\n",
    "print(\n",
    "    f\"制御ビット (a,b,c): q{control_qubits[0]}, q{control_qubits[1]}, q{control_qubits[2]}\")\n",
    "print(f\"ターゲットビット (d,e): q{target_qubits[0]}, q{target_qubits[1]}\")\n",
    "print(\n",
    "    f\"制御条件 (abc=110): Qiskit ctrl_state='{control_state_str}' (q2,q3,q4 の順)\\n\")\n",
    "\n",
    "# --- シミュレーションの実行 ---\n",
    "simulation_results = {}\n",
    "\n",
    "for initial_state_str in initial_states_str:\n",
    "    print(f\"--- 初期状態: |{initial_state_str}> ---\")\n",
    "\n",
    "    # 5量子ビットの量子回路を作成\n",
    "    qc = QuantumCircuit(num_qubits, name=f\"Init |{initial_state_str}>\")\n",
    "\n",
    "    # 初期状態 |abcde> を準備する\n",
    "    # 文字列の左から右へ a, b, c, d, e に対応\n",
    "    # '1' の場合にXゲートを適用\n",
    "    for i, bit in enumerate(initial_state_str):\n",
    "        # 'a'+0 -> 'a', 'a'+1 -> 'b', ...\n",
    "        qubit_index = qubit_map[chr(ord('a') + i)]\n",
    "        if bit == '1':\n",
    "            qc.x(qubit_index)\n",
    "    qc.barrier()  # 初期化部分と操作部分を視覚的に分離\n",
    "\n",
    "    # 制御SWAPゲートを適用\n",
    "    # appendの引数は [制御ビットリスト] + [ターゲットビットリスト]\n",
    "    # 制御ビット: q4, q3, q2\n",
    "    # ターゲットビット: q1, q0 (SwapGateはこれらの間で動作)\n",
    "    qc.append(controlled_swap_gate, control_qubits + target_qubits)\n",
    "\n",
    "    print(\"生成された回路:\")\n",
    "    # 'text'出力が見にくい場合は 'mpl' や 'latex_source' を試すこともできます\n",
    "    try:\n",
    "        print(qc.draw(output='text', fold=-1))  # fold=-1 で折り返しを防ぐ\n",
    "    except ImportError:\n",
    "        print(\"Circuit drawing requires 'pylatexenc'. Using basic print.\")\n",
    "        print(qc)  # 基本的な文字列表現\n",
    "\n",
    "    # 状態ベクトルシミュレータで実行\n",
    "    if AerSimulator:\n",
    "        simulator = AerSimulator(method='statevector')\n",
    "    else:\n",
    "        simulator = BasicSimulator(method='statevector')\n",
    "\n",
    "    # 回路をシミュレータ用に最適化（必須ではないが推奨）\n",
    "    compiled_circuit = transpile(qc, simulator)\n",
    "\n",
    "    # 状態ベクトルを取得\n",
    "    statevector = Statevector(compiled_circuit)  # これで直接状態ベクトルを取得できる\n",
    "\n",
    "    # 状態ベクトルから最も確率の高い状態を取得\n",
    "    # 理想的なシミュレーションなので、1つの状態のみ確率1を持つはず\n",
    "    probs_dict = statevector.probabilities_dict(decimals=5)  # 確率辞書を取得\n",
    "    # 最も確率の高い状態のビット列を取得 (Qiskitのリトルエンディアン順 q0q1q2q3q4)\n",
    "    final_state_qiskit_order = max(probs_dict, key=probs_dict.get)\n",
    "\n",
    "    # |abcde> (q4q3q2q1q0) の順序に直すために反転\n",
    "    final_state_abcde_order = final_state_qiskit_order\n",
    "\n",
    "    simulation_results[initial_state_str] = final_state_abcde_order\n",
    "    print(f\"初期状態: |{initial_state_str}>\")\n",
    "    print(f\"最終状態 (Qiskit order q0..q4): |{final_state_qiskit_order}>\")\n",
    "    print(f\"最終状態 (abcde order q4..q0): |{final_state_abcde_order}>\\n\")\n",
    "\n",
    "# --- 結果の検証 ---\n",
    "print(\"\\n--- 結果まとめ ---\")\n",
    "for initial, final in simulation_results.items():\n",
    "    # 期待される最終状態を計算\n",
    "    a, b, c = [int(bit) for bit in initial[:3]]\n",
    "    expected_final = initial\n",
    "    if a == 1 and b == 1 and c == 0:\n",
    "        # 条件を満たす場合、dとeを入れ替える\n",
    "        d, e = initial[3], initial[4]\n",
    "        expected_final = initial[:3] + e + d\n",
    "\n",
    "    print(f\"初期状態: |{initial}>\")\n",
    "    print(f\"  期待される最終状態: |{expected_final}>\")\n",
    "    print(f\"  シミュレーション結果: |{final}>\")\n",
    "    if final == expected_final:\n",
    "        print(\"  \\033[92m-> 結果は期待通りです。\\033[0m\")  # 緑色で表示\n",
    "    else:\n",
    "        print(\"  \\033[91m-> 結果が期待と異なります。\\033[0m\")  # 赤色で表示\n",
    "    print(\"-\" * 20)"
   ]
  },
  {
   "cell_type": "code",
   "execution_count": null,
   "id": "8d139cd9",
   "metadata": {},
   "outputs": [
    {
     "data": {
      "text/latex": [
       "$$ |01\\rangle$$"
      ],
      "text/plain": [
       "<IPython.core.display.Latex object>"
      ]
     },
     "metadata": {},
     "output_type": "display_data"
    },
    {
     "data": {
      "text/latex": [
       "$$\\frac{1}{2} |00\\rangle- \\frac{i}{2} |01\\rangle+\\frac{1}{2} |10\\rangle- \\frac{i}{2} |11\\rangle$$"
      ],
      "text/plain": [
       "<IPython.core.display.Latex object>"
      ]
     },
     "metadata": {},
     "output_type": "display_data"
    },
    {
     "data": {
      "text/latex": [
       "$$\n",
       "\n",
       "\\begin{bmatrix}\n",
       "\\frac{\\sqrt{2}}{2} & 0 & \\frac{\\sqrt{2}}{2} & 0  \\\\\n",
       " 0 & \\frac{\\sqrt{2}}{2} & 0 & \\frac{\\sqrt{2}}{2}  \\\\\n",
       " \\frac{\\sqrt{2}}{2} & 0 & - \\frac{\\sqrt{2}}{2} & 0  \\\\\n",
       " 0 & \\frac{\\sqrt{2}}{2} & 0 & - \\frac{\\sqrt{2}}{2}  \\\\\n",
       " \\end{bmatrix}\n",
       "$$"
      ],
      "text/plain": [
       "<IPython.core.display.Latex object>"
      ]
     },
     "metadata": {},
     "output_type": "display_data"
    },
    {
     "data": {
      "text/latex": [
       "$$\n",
       "\n",
       "\\begin{bmatrix}\n",
       "0 & \\frac{\\sqrt{2}}{2} & 0 & 0 & 0 & \\frac{\\sqrt{2}}{2} & 0 & 0  \\\\\n",
       " \\frac{\\sqrt{2}}{2} & 0 & 0 & 0 & \\frac{\\sqrt{2}}{2} & 0 & 0 & 0  \\\\\n",
       " 0 & 0 & 0 & \\frac{\\sqrt{2}}{2} & 0 & 0 & 0 & \\frac{\\sqrt{2}}{2}  \\\\\n",
       " 0 & 0 & \\frac{\\sqrt{2}}{2} & 0 & 0 & 0 & \\frac{\\sqrt{2}}{2} & 0  \\\\\n",
       " 0 & \\frac{\\sqrt{2}}{2} & 0 & 0 & 0 & - \\frac{\\sqrt{2}}{2} & 0 & 0  \\\\\n",
       " \\frac{\\sqrt{2}}{2} & 0 & 0 & 0 & - \\frac{\\sqrt{2}}{2} & 0 & 0 & 0  \\\\\n",
       " 0 & 0 & 0 & \\frac{\\sqrt{2}}{2} & 0 & 0 & 0 & - \\frac{\\sqrt{2}}{2}  \\\\\n",
       " 0 & 0 & \\frac{\\sqrt{2}}{2} & 0 & 0 & 0 & - \\frac{\\sqrt{2}}{2} & 0  \\\\\n",
       " \\end{bmatrix}\n",
       "$$"
      ],
      "text/plain": [
       "<IPython.core.display.Latex object>"
      ]
     },
     "metadata": {},
     "output_type": "display_data"
    },
    {
     "data": {
      "text/latex": [
       "$$\\frac{\\sqrt{2}}{2} |00\\rangle- \\frac{\\sqrt{2} i}{2} |01\\rangle$$"
      ],
      "text/plain": [
       "<IPython.core.display.Latex object>"
      ]
     },
     "metadata": {},
     "output_type": "display_data"
    },
    {
     "data": {
      "text/latex": [
       "$$\\frac{\\sqrt{2}}{2} |00\\rangle+\\frac{\\sqrt{2}}{2} |11\\rangle$$"
      ],
      "text/plain": [
       "<IPython.core.display.Latex object>"
      ]
     },
     "metadata": {},
     "output_type": "display_data"
    },
    {
     "data": {
      "text/latex": [
       "$$\\frac{\\sqrt{3}}{3} |001\\rangle+\\frac{\\sqrt{3}}{3} |010\\rangle+\\frac{\\sqrt{3}}{3} |100\\rangle$$"
      ],
      "text/plain": [
       "<IPython.core.display.Latex object>"
      ]
     },
     "metadata": {},
     "output_type": "display_data"
    },
    {
     "name": "stdout",
     "output_type": "stream",
     "text": [
      "Measured: 1\n",
      "State after measurement:\n"
     ]
    },
    {
     "data": {
      "text/latex": [
       "$$ |001\\rangle$$"
      ],
      "text/plain": [
       "<IPython.core.display.Latex object>"
      ]
     },
     "metadata": {},
     "output_type": "display_data"
    },
    {
     "name": "stdout",
     "output_type": "stream",
     "text": [
      "Measured: 10\n",
      "State after measurement:\n"
     ]
    },
    {
     "data": {
      "text/latex": [
       "$$ |010\\rangle$$"
      ],
      "text/plain": [
       "<IPython.core.display.Latex object>"
      ]
     },
     "metadata": {},
     "output_type": "display_data"
    }
   ],
   "source": [
    "from qiskit import __version__\n",
    "from qiskit.quantum_info import Statevector, Operator\n",
    "from numpy import sqrt\n",
    "\n",
    "zero = Statevector.from_label(\"0\")\n",
    "one = Statevector.from_label(\"1\")\n",
    "psi = zero.tensor(one)\n",
    "display(psi.draw(\"latex\"))\n",
    "\n",
    "plus = Statevector.from_label(\"+\")\n",
    "minus_i = Statevector.from_label(\"l\")\n",
    "phi = plus.tensor(minus_i)\n",
    "display(phi.draw(\"latex\"))\n",
    "\n",
    "H = Operator.from_label(\"H\")\n",
    "I = Operator.from_label(\"I\")\n",
    "X = Operator.from_label(\"X\")\n",
    "display(H.tensor(I).draw(\"latex\"))\n",
    "\n",
    "display((H ^ I ^ X).draw(\"latex\"))\n",
    "\n",
    "display(phi.evolve(H ^ I).draw(\"latex\"))\n",
    "\n",
    "CX = Operator(\n",
    "    [[1, 0, 0, 0],\n",
    "     [0, 1, 0, 0],\n",
    "     [0, 0, 0, 1],\n",
    "     [0, 0, 1, 0]])  # type: ignore\n",
    "psi = plus.tensor(zero)\n",
    "display(psi.evolve(CX).draw(\"latex\"))\n",
    "\n",
    "w = Statevector([0, 1, 1, 0, 1, 0, 0, 0] / sqrt(3))\n",
    "display(w.draw(\"latex\"))\n",
    "\n",
    "result, state = w.measure([0])\n",
    "print(f\"Measured: {result}\\nState after measurement:\")\n",
    "display(state.draw(\"latex\"))\n",
    "\n",
    "result, state = w.measure([0, 1])\n",
    "print(f\"Measured: {result}\\nState after measurement:\")\n",
    "display(state.draw(\"latex\"))"
   ]
  },
  {
   "cell_type": "code",
   "execution_count": null,
   "id": "586b6696",
   "metadata": {},
   "outputs": [
    {
     "data": {
      "image/png": "[encoded data removed]",
      "text/plain": [
       "<Figure size 437.882x367.889 with 1 Axes>"
      ]
     },
     "metadata": {},
     "output_type": "display_data"
    }
   ],
   "source": [
    "from qiskit import QuantumCircuit, QuantumRegister, ClassicalRegister\n",
    "\n",
    "X = QuantumRegister(1, \"X\")\n",
    "Y = QuantumRegister(1, \"Y\")\n",
    "A = ClassicalRegister(1, \"A\")\n",
    "B = ClassicalRegister(1, \"B\")\n",
    "\n",
    "circuit = QuantumCircuit(Y, X, B, A)\n",
    "circuit.h(Y)\n",
    "circuit.cx(Y, X)\n",
    "circuit.measure(Y, B)\n",
    "circuit.measure(X, A)\n",
    "\n",
    "display(circuit.draw(output=\"mpl\"))"
   ]
  },
  {
   "cell_type": "markdown",
   "id": "58d01703",
   "metadata": {},
   "source": [
    "はい、承知いたしました。画像に示されている下の計算結果を実際に確かめてみましょう。\n",
    "\n",
    "画像の下の式は次のようになっています。\n",
    "$$\\langle \\psi_{\\alpha} \\otimes \\psi_{\\beta} | \\phi^{+} \\rangle = \\frac{\\cos(\\alpha)\\cos(\\beta) + \\sin(\\alpha)\\sin(\\beta)}{\\sqrt{2}}$$\n",
    "\n",
    "ここで、標準的な量子ビットの状態とベル状態の定義を用いると考えられます。\n",
    "\n",
    "1.  **状態の定義:**\n",
    "    * おそらく、単一量子ビットの状態は $|\\psi_{\\alpha}\\rangle = \\cos(\\alpha)|0\\rangle + \\sin(\\alpha)|1\\rangle$ と定義されているでしょう。同様に $|\\psi_{\\beta}\\rangle = \\cos(\\beta)|0\\rangle + \\sin(\\beta)|1\\rangle$ です。\n",
    "    * $|\\phi^{+}\\rangle$ は、4つのベル状態のうちの1つで、通常 $|\\phi^{+}\\rangle = \\frac{1}{\\sqrt{2}}(|00\\rangle + |11\\rangle)$ と定義されます。\n",
    "\n",
    "2.  **テンソル積 $|\\psi_{\\alpha} \\otimes \\psi_{\\beta}\\rangle$ の計算:**\n",
    "    まず、2つの状態のテンソル積（合成状態）を計算します。\n",
    "    $$\n",
    "    \\begin{aligned} |\\psi_{\\alpha} \\otimes \\psi_{\\beta}\\rangle &= |\\psi_{\\alpha}\\rangle \\otimes |\\psi_{\\beta}\\rangle \\\\ &= (\\cos(\\alpha)|0\\rangle + \\sin(\\alpha)|1\\rangle) \\otimes (\\cos(\\beta)|0\\rangle + \\sin(\\beta)|1\\rangle) \\\\ &= \\cos(\\alpha)\\cos(\\beta)|0\\rangle \\otimes |0\\rangle + \\cos(\\alpha)\\sin(\\beta)|0\\rangle \\otimes |1\\rangle \\\\ &\\quad + \\sin(\\alpha)\\cos(\\beta)|1\\rangle \\otimes |0\\rangle + \\sin(\\alpha)\\sin(\\beta)|1\\rangle \\otimes |1\\rangle \\\\ &= \\cos(\\alpha)\\cos(\\beta)|00\\rangle + \\cos(\\alpha)\\sin(\\beta)|01\\rangle \\\\ &\\quad + \\sin(\\alpha)\\cos(\\beta)|10\\rangle + \\sin(\\alpha)\\sin(\\beta)|11\\rangle \\end{aligned}\n",
    "    $$\n",
    "\n",
    "3.  **ブラベクトル $\\langle \\psi_{\\alpha} \\otimes \\psi_{\\beta} |$ の計算:**\n",
    "    ケットベクトル $|\\psi_{\\alpha} \\otimes \\psi_{\\beta}\\rangle$ に対応するブラベクトルは、係数の複素共役を取り、ケットをブラに置き換えることで得られます。（ここでは係数は実数と仮定します）\n",
    "    $$\n",
    "    \\begin{aligned} \\langle \\psi_{\\alpha} \\otimes \\psi_{\\beta} | &= (\\cos(\\alpha)\\cos(\\beta)|00\\rangle + \\cos(\\alpha)\\sin(\\beta)|01\\rangle \\\\ &\\quad + \\sin(\\alpha)\\cos(\\beta)|10\\rangle + \\sin(\\alpha)\\sin(\\beta)|11\\rangle)^{\\dagger} \\\\ &= \\cos(\\alpha)\\cos(\\beta)\\langle 00| + \\cos(\\alpha)\\sin(\\beta)\\langle 01| \\\\ &\\quad + \\sin(\\alpha)\\cos(\\beta)\\langle 10| + \\sin(\\alpha)\\sin(\\beta)\\langle 11| \\end{aligned}\n",
    "    $$\n",
    "\n",
    "4.  **内積 $\\langle \\psi_{\\alpha} \\otimes \\psi_{\\beta} | \\phi^{+} \\rangle$ の計算:**\n",
    "    いよいよ内積を計算します。正規直交基底 $|00\\rangle, |01\\rangle, |10\\rangle, |11\\rangle$ の性質 $\\langle ij | kl \\rangle = \\delta_{ik}\\delta_{jl}$ （$i=k$ かつ $j=l$ のとき1、それ以外は0）を使います。\n",
    "    $$\n",
    "    \\begin{aligned} \\langle \\psi_{\\alpha} \\otimes \\psi_{\\beta} | \\phi^{+} \\rangle &= \\left( \\cos(\\alpha)\\cos(\\beta)\\langle 00| + \\cos(\\alpha)\\sin(\\beta)\\langle 01| + \\sin(\\alpha)\\cos(\\beta)\\langle 10| + \\sin(\\alpha)\\sin(\\beta)\\langle 11| \\right) \\left( \\frac{1}{\\sqrt{2}}(|00\\rangle + |11\\rangle) \\right) \\\\ &= \\frac{1}{\\sqrt{2}} \\left[ \\cos(\\alpha)\\cos(\\beta)\\langle 00|(|00\\rangle + |11\\rangle) + \\cos(\\alpha)\\sin(\\beta)\\langle 01|(|00\\rangle + |11\\rangle) \\right. \\\\ &\\qquad \\left. + \\sin(\\alpha)\\cos(\\beta)\\langle 10|(|00\\rangle + |11\\rangle) + \\sin(\\alpha)\\sin(\\beta)\\langle 11|(|00\\rangle + |11\\rangle) \\right] \\\\ &= \\frac{1}{\\sqrt{2}} \\left[ \\cos(\\alpha)\\cos(\\beta)(\\langle 00|00\\rangle + \\langle 00|11\\rangle) + \\cos(\\alpha)\\sin(\\beta)(\\langle 01|00\\rangle + \\langle 01|11\\rangle) \\right. \\\\ &\\qquad \\left. + \\sin(\\alpha)\\cos(\\beta)(\\langle 10|00\\rangle + \\langle 10|11\\rangle) + \\sin(\\alpha)\\sin(\\beta)(\\langle 11|00\\rangle + \\langle 11|11\\rangle) \\right] \\\\ &= \\frac{1}{\\sqrt{2}} \\left[ \\cos(\\alpha)\\cos(\\beta)(1 + 0) + \\cos(\\alpha)\\sin(\\beta)(0 + 0) + \\sin(\\alpha)\\cos(\\beta)(0 + 0) + \\sin(\\alpha)\\sin(\\beta)(0 + 1) \\right] \\\\ &= \\frac{1}{\\sqrt{2}} [ \\cos(\\alpha)\\cos(\\beta) + \\sin(\\alpha)\\sin(\\beta) ] \\\\ &= \\frac{\\cos(\\alpha)\\cos(\\beta) + \\sin(\\alpha)\\sin(\\beta)}{\\sqrt{2}} \\end{aligned}\n",
    "    $$\n",
    "\n",
    "以上の計算により、画像に示された下の式\n",
    "$$\\langle \\psi_{\\alpha} \\otimes \\psi_{\\beta} | \\phi^{+} \\rangle = \\frac{\\cos(\\alpha)\\cos(\\beta) + \\sin(\\alpha)\\sin(\\beta)}{\\sqrt{2}}$$\n",
    "が成り立つことが確かめられました。\n",
    "\n",
    "また、最初の式 $\\langle\\psi_{\\alpha}|\\psi_{\\beta}\\rangle = \\cos(\\alpha - \\beta)$ を使うと、この結果は\n",
    "$$\\langle \\psi_{\\alpha} \\otimes \\psi_{\\beta} | \\phi^{+} \\rangle = \\frac{\\cos(\\alpha - \\beta)}{\\sqrt{2}}$$\n",
    "と書くこともできますね。"
   ]
  }
 ],
 "metadata": {
  "kernelspec": {
   "display_name": ".venv",
   "language": "python",
   "name": "python3"
  },
  "language_info": {
   "codemirror_mode": {
    "name": "ipython",
    "version": 3
   },
   "file_extension": ".py",
   "mimetype": "text/x-python",
   "name": "python",
   "nbconvert_exporter": "python",
   "pygments_lexer": "ipython3",
   "version": "3.12.9"
  }
 },
 "nbformat": 4,
 "nbformat_minor": 5
}
