{
 "cells": [
  {
   "cell_type": "code",
   "execution_count": 4,
   "id": "b0a1e93d",
   "metadata": {},
   "outputs": [
    {
     "name": "stdout",
     "output_type": "stream",
     "text": [
      "--- 量子回路 ---\n",
      "   ┌───┐┌───┐┌───┐\n",
      "q: ┤ X ├┤ Y ├┤ Z ├\n",
      "   └───┘└───┘└───┘\n",
      "\n",
      "--- 結果のユニタリ行列 ---\n",
      "[[0.-1.j 0.+0.j]\n",
      " [0.+0.j 0.-1.j]]\n"
     ]
    }
   ],
   "source": [
    "import numpy as np\n",
    "from qiskit import QuantumCircuit\n",
    "from qiskit.quantum_info import Operator\n",
    "\n",
    "# 1. 1qubitの量子回路を作成\n",
    "# 回路図で左から Z, Y, X と並べることで、\n",
    "# 行列の計算順序が X * Y * Z となります。\n",
    "qc = QuantumCircuit(1)\n",
    "qc.x(0)\n",
    "qc.y(0)\n",
    "qc.z(0)\n",
    "\n",
    "\n",
    "# 2. 回路をアスキーアートで表示\n",
    "print(\"--- 量子回路 ---\")\n",
    "print(qc.draw('text'))\n",
    "\n",
    "\n",
    "# 3. 回路全体のユニタリ行列を計算\n",
    "op = Operator(qc)\n",
    "unitary_matrix = op.data\n",
    "\n",
    "\n",
    "# 4. 結果を表示（複素数の誤差を丸めて見やすくする）\n",
    "print(\"\\n--- 結果のユニタリ行列 ---\")\n",
    "cleaned_matrix = np.round(unitary_matrix, decimals=5)\n",
    "print(cleaned_matrix)\n",
    "\n",
    "# --- 確認 ---\n",
    "# i * I は [[i, 0], [0, i]] です。\n",
    "# j は虚数単位iを表します。"
   ]
  }
 ],
 "metadata": {
  "kernelspec": {
   "display_name": "mictlan",
   "language": "python",
   "name": "python3"
  },
  "language_info": {
   "codemirror_mode": {
    "name": "ipython",
    "version": 3
   },
   "file_extension": ".py",
   "mimetype": "text/x-python",
   "name": "python",
   "nbconvert_exporter": "python",
   "pygments_lexer": "ipython3",
   "version": "3.12.10"
  }
 },
 "nbformat": 4,
 "nbformat_minor": 5
}
