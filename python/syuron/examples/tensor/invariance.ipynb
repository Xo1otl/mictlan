{
 "cells": [
  {
   "cell_type": "markdown",
   "metadata": {},
   "source": [
    "# Invariance of Physical Quantities: Introducing Coordinate Transformations\n",
    "\n",
    "Tensors are typically defined by their coordinate transformation properties. The transformation properties of tensors can be understood by realizing that the physical quantities they represent must appear in certain ways to different observers with different points of view.\n",
    "\n",
    "Suppose, for example, that I measure the temperature (°C) at a given point P at a given time. You also measure the temperature (°C) at P at the same time but from a different location that is in motion relative to my location. Would it make any sense if you and I acquired different magnitudes; i.e., if my thermometer measured 25°C and yours measured 125°C? No. We must both obtain the same quantity from our respective measurements.\n",
    "\n",
    "Put another way, suppose that I call my point of view (coordinate system or reference frame) K and yours K*. Let T be the temperature (°C) measured at P in K and T* be the temperature (°C) measured in K*. We then require\n",
    "\n",
    "$$\n",
    "T = T^*\n",
    "$$\n",
    "\n",
    "This expression is an example of a coordinate transformation law between K and K* for the scalar temperature T. Only scalars that transform like this are to be admitted into the class of tensors of rank 0. In fact, letting T stand for any scalar quantity we wish, the equation $T = T^*$ can be taken as the definition of a tensor of rank 0.\n",
    "\n",
    "Now let T be the frequency of light emanating from a monochromatic source at P. Again, let two observers, K and K*, measure the frequency of the light at P at the same time using the same units of inverse seconds. If I am stationary relative to the source, the light will have a certain frequency, for example $T = \\nu_0$. If, on the other hand, you are moving toward or away from the source when you take your measurement, the light will be red or blue shifted with frequency $T^* = \\nu_0 \\pm \\Delta\\nu$. Obviously $T \\neq T^*$ in this case, and although the frequency thus observed is a scalar, it is evidently, not a tensor of rank 0.\n",
    "\n",
    "A similar argument holds for vectors. As was the case with scalars, not all vectors are tensors of rank 1. Suppose that a vector quantity V exists at a point P. Again, assume two reference frames, K and K*. Let V be the vector observed (measured) in K, and V* be the same vector observed in K* at the same time. As with the temperature example, we again require that\n",
    "\n",
    "$$\n",
    "\\mathbf{V} = \\mathbf{V}^*\n",
    "$$\n",
    "\n",
    "since, after all, K and K* are both observing the self-same vector. Any other result would not make physical sense. Any vector that transforms according to the expression $\\mathbf{V} = \\mathbf{V}^*$ is defined to be a tensor of rank 1. We usually say that the transformation law $T = T^*$, or $\\mathbf{V} = \\mathbf{V}^*$, requires the quantity represented by T or V to be coordinate independent.\n",
    "\n",
    "While the vector itself is coordinate independent, its individual components are not. Thus, in the vector transformation law $\\mathbf{V} = \\mathbf{V}^*$, the components of the vector vary from system to system, but do so in such a way that the vector quantity itself remains unchanged. This truth is evident when we realize that the components in any coordinate system are nothing more than the projections of the vector onto the local coordinate axes.\n",
    "\n",
    "Many representations exist for vectors in Euclidean 3-space, the space of our school algebra and geometry, including the familiar $\\mathbf{V} = \\alpha \\mathbf{i} + \\beta \\mathbf{j} + \\gamma \\mathbf{k}$ in which V is the vector being represented; $\\alpha$, $\\beta$, and $\\gamma$ are its scalar components along the x, y, and z axes of a Cartesian reference system, respectively; and $\\mathbf{i}$, $\\mathbf{j}$, and $\\mathbf{k}$ are unit vectors along those same axes. Another representation of V is as a triad of numbers, $\\mathbf{V} = (\\alpha, \\beta, \\gamma)$.\n",
    "\n",
    "In the more general case of higher dimensional spaces, whether Euclidean or non-Euclidean, vectors are represented by a number array – a row or a column. Thus, if V were a vector in $E^n$ or $R^n$ (Euclidean or Riemannian n-space) it would be written as\n",
    "\n",
    "$$\n",
    "\\mathbf{V} = (v^1, v^2, \\ldots, v^n)\n",
    "$$\n",
    "\n",
    "or simply, $\\mathbf{V} = (v^i)$, $i = 1, \\ldots, n$.\n",
    "\n",
    "Now, let V be the position vector extending from the origin of K to a particular point P, and V* be the position vector extending from the origin of K* to that same point. Assume that the origins of K and K* do not coincide; then $\\mathbf{V} \\neq \\mathbf{V}^*$. The position vector is very definitely coordinate dependent and is not a tensor because it does not satisfy the condition of coordinate independence.\n",
    "\n",
    "But suppose that $\\mathbf{V}_1$ and $\\mathbf{V}_2$ were position vectors of points $P_1$ and $P_2$ in K, and that $\\mathbf{V}_1^*$ and $\\mathbf{V}_2^*$ were position vectors to the same points $P_1$ and $P_2$ in K*. The vector extending from $P_1$ to $P_2$ must be the same vector in both systems. This vector is $\\mathbf{V}_2 - \\mathbf{V}_1$ in K and $\\mathbf{V}_2^* - \\mathbf{V}_1^*$ in K*. Thus we have\n",
    "\n",
    "$$\n",
    "\\mathbf{V}_2 - \\mathbf{V}_1 = \\mathbf{V}_2^* - \\mathbf{V}_1^*\n",
    "$$\n",
    "\n",
    "i.e., while the position vector itself is not a tensor, the difference between any two position vectors is a tensor of rank 1! Similarly, for any position vectors V and V*, $d\\mathbf{V} = d\\mathbf{V}^*$; i.e., the differential of the position vector is a tensor of rank 1.\n",
    "\n",
    "This result may seem a little strange, but it provides strong motivation for exercising care in working with physical vector quantities."
   ]
  }
 ],
 "metadata": {
  "kernelspec": {
   "display_name": "mictlan-F-fZXb3l-py3.10",
   "language": "python",
   "name": "python3"
  },
  "language_info": {
   "name": "python",
   "version": "3.10.12"
  }
 },
 "nbformat": 4,
 "nbformat_minor": 2
}
