{
 "cells": [
  {
   "cell_type": "code",
   "execution_count": 3,
   "metadata": {},
   "outputs": [
    {
     "name": "stdout",
     "output_type": "stream",
     "text": [
      "\n",
      "# ../../README.md\n",
      "```\n",
      "# handai\n",
      "\n",
      "handai で書かされるけど汎用性がないコードはここに置く\n",
      "\n",
      "```\n",
      "\n",
      "# ../../examples/importdemo/demo.ipynb\n",
      "```\n",
      "{\n",
      " \"cells\": [\n",
      "  {\n",
      "   \"cell_type\": \"code\",\n",
      "   \"execution_count\": 2,\n",
      "   \"metadata\": {},\n",
      "   \"outputs\": [],\n",
      "   \"source\": [\n",
      "    \"from pkg import localfile\\n\",\n",
      "    \"\\n\",\n",
      "    \"localfile.print_source(\\\"../../\\\", \\\"\\\")\"\n",
      "   ]\n",
      "  },\n",
      "  {\n",
      "   \"cell_type\": \"code\",\n",
      "   \"execution_count\": 1,\n",
      "   \"metadata\": {},\n",
      "   \"outputs\": [\n",
      "    {\n",
      "     \"name\": \"stdout\",\n",
      "     \"output_type\": \"stream\",\n",
      "     \"text\": [\n",
      "      \"/workspaces/mictlan/python/handai/examples/importdemo\\n\"\n",
      "     ]\n",
      "    }\n",
      "   ],\n",
      "   \"source\": [\n",
      "    \"import os\\n\",\n",
      "    \"print(os.getcwd())\"\n",
      "   ]\n",
      "  },\n",
      "  {\n",
      "   \"cell_type\": \"code\",\n",
      "   \"execution_count\": 1,\n",
      "   \"metadata\": {},\n",
      "   \"outputs\": [\n",
      "    {\n",
      "     \"name\": \"stdout\",\n",
      "     \"output_type\": \"stream\",\n",
      "     \"text\": [\n",
      "      \"/workspaces/mictlan/python\\n\",\n",
      "      \"/workspaces/mictlan/python/handai/examples/importdemo\\n\",\n",
      "      \"/usr/lib/python310.zip\\n\",\n",
      "      \"/usr/lib/python3.10\\n\",\n",
      "      \"/usr/lib/python3.10/lib-dynload\\n\",\n",
      "      \"\\n\",\n",
      "      \"/home/vscode/.cache/pypoetry/virtualenvs/mictlan-F-fZXb3l-py3.10/lib/python3.10/site-packages\\n\"\n",
      "     ]\n",
      "    }\n",
      "   ],\n",
      "   \"source\": [\n",
      "    \"import sys\\n\",\n",
      "    \"\\n\",\n",
      "    \"for path in sys.path:\\n\",\n",
      "    \"    print(path)\"\n",
      "   ]\n",
      "  }\n",
      " ],\n",
      " \"metadata\": {\n",
      "  \"kernelspec\": {\n",
      "   \"display_name\": \"Python 3 (ipykernel)\",\n",
      "   \"language\": \"python\",\n",
      "   \"name\": \"python3\"\n",
      "  },\n",
      "  \"language_info\": {\n",
      "   \"codemirror_mode\": {\n",
      "    \"name\": \"ipython\",\n",
      "    \"version\": 3\n",
      "   },\n",
      "   \"file_extension\": \".py\",\n",
      "   \"mimetype\": \"text/x-python\",\n",
      "   \"name\": \"python\",\n",
      "   \"nbconvert_exporter\": \"python\",\n",
      "   \"pygments_lexer\": \"ipython3\",\n",
      "   \"version\": \"3.10.12\"\n",
      "  }\n",
      " },\n",
      " \"nbformat\": 4,\n",
      " \"nbformat_minor\": 4\n",
      "}\n",
      "\n",
      "```\n",
      "\n",
      "# ../../examples/importdemo/demo.py\n",
      "```\n",
      "from pkg import localfile\n",
      "\n",
      "localfile.print_source(\".\", \".py\")\n",
      "\n",
      "```\n"
     ]
    },
    {
     "data": {
      "text/plain": [
       "['../../README.md',\n",
       " '../../examples/importdemo/demo.ipynb',\n",
       " '../../examples/importdemo/demo.py']"
      ]
     },
     "execution_count": 3,
     "metadata": {},
     "output_type": "execute_result"
    }
   ],
   "source": [
    "from pkg import localfile\n",
    "\n",
    "localfile.print_source(\"../../\", \"\")"
   ]
  },
  {
   "cell_type": "code",
   "execution_count": 1,
   "metadata": {},
   "outputs": [
    {
     "name": "stdout",
     "output_type": "stream",
     "text": [
      "/workspaces/mictlan/python/handai/examples/importdemo\n"
     ]
    }
   ],
   "source": [
    "import os\n",
    "print(os.getcwd())"
   ]
  },
  {
   "cell_type": "code",
   "execution_count": 1,
   "metadata": {},
   "outputs": [
    {
     "name": "stdout",
     "output_type": "stream",
     "text": [
      "/workspaces/mictlan/python\n",
      "/workspaces/mictlan/python/handai/examples/importdemo\n",
      "/usr/lib/python310.zip\n",
      "/usr/lib/python3.10\n",
      "/usr/lib/python3.10/lib-dynload\n",
      "\n",
      "/home/vscode/.cache/pypoetry/virtualenvs/mictlan-F-fZXb3l-py3.10/lib/python3.10/site-packages\n"
     ]
    }
   ],
   "source": [
    "import sys\n",
    "\n",
    "for path in sys.path:\n",
    "    print(path)"
   ]
  }
 ],
 "metadata": {
  "kernelspec": {
   "display_name": "Python 3 (ipykernel)",
   "language": "python",
   "name": "python3"
  },
  "language_info": {
   "codemirror_mode": {
    "name": "ipython",
    "version": 3
   },
   "file_extension": ".py",
   "mimetype": "text/x-python",
   "name": "python",
   "nbconvert_exporter": "python",
   "pygments_lexer": "ipython3",
   "version": "3.10.12"
  }
 },
 "nbformat": 4,
 "nbformat_minor": 4
}
